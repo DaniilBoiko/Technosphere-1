{
 "cells": [
  {
   "cell_type": "markdown",
   "metadata": {},
   "source": [
    "**Общая информация**\n",
    "\n",
    "**Срок сдачи:** 20 марта 2019, 06:00 <br\\>\n",
    "**Штраф за опоздание:** -1 балл после 06:00 20 марта, -2 балла после 06:00 27 марта, -3 балла после 06:00 3 апреля\n",
    "\n",
    "При отправлении ДЗ указывайте фамилию в названии файла\n",
    "Присылать ДЗ необходимо в виде ссылки на свой github репозиторий в slack @alkhamush\n",
    "\n",
    "Необходимо в slack скинуть ссылку в личный чат @alkhamush\n",
    "Пример ссылки:\n",
    "https://github.com/stroykova/spheremailru/stroykova_hw1.ipynb \n",
    "\n",
    "\n",
    "Используйте данный Ipython Notebook при оформлении домашнего задания."
   ]
  },
  {
   "cell_type": "markdown",
   "metadata": {},
   "source": [
    "###### Задание 1 (2 баллов)\n",
    "Реализовать KNN в классе MyKNeighborsClassifier (обязательное условие: точность не ниже sklearn реализации)\n",
    "Разберитесь самостоятельно, какая мера расстояния используется в KNeighborsClassifier дефолтно и реализуйте свой алгоритм именно с этой мерой. Самостоятельно разберитесь, как считается score из KNeighborsClassifier и реализуйте аналог в своём классе. Score не должен уступать значению KNN из sklearn\n",
    "\n",
    "###### Задание 2 (2 балла)\n",
    "Добиться скорости работы на fit,  predict и predict_proba сравнимой со sklearn для iris и mnist\n",
    "Для этого используем numpy\n",
    "\n",
    "###### Задание 3 (2 балла)\n",
    "Для iris найдите такой параметр n_neighbors, при котором выдаётся наилучший score. Нарисуйте график зависимости score от n_neighbors\n",
    "\n",
    "###### Задание 4 (3 балла)\n",
    "Добавить algorithm='kd_tree' в реализацию KNN (использовать KDTree из sklearn.neighbors). Значение n_neighbors нужно взять из задания 3. Добиться скорости работы на fit,  predict и predict_proba сравнимой со sklearn для iris и mnist\n",
    "Для этого используем numpy. Score не должен уступать значению KNN из sklearn\n",
    "\n",
    "###### Задание 5 (1 балла)\n",
    "Описать для чего нужны следующие библиотеки/классы/функции (список будет ниже)\n",
    "\n",
    "**Штрафные баллы:**\n",
    "\n",
    "1. Невыполнение PEP8 -1 балл\n",
    "2. Отсутствие фамилии в имени скрипта (скрипт должен называться по аналогии со stroykova_hw1.ipynb) -1 балл\n",
    "3. Все строчки должны быть выполнены. Нужно, чтобы output команды можно было увидеть уже в git'е. В противном случае -1 балл\n",
    "4. При оформлении ДЗ нужно пользоваться данным файлом в качестве шаблона. Не нужно удалять и видоизменять структуру кода и текст. В противном случае -1 балл\n"
   ]
  },
  {
   "cell_type": "code",
   "execution_count": 1,
   "metadata": {},
   "outputs": [],
   "source": [
    "import numpy as np\n",
    "import matplotlib.pyplot as plt\n",
    "\n",
    "import seaborn as sns\n",
    "from sklearn import datasets\n",
    "from sklearn.base import ClassifierMixin\n",
    "from sklearn.datasets import fetch_mldata\n",
    "from sklearn.neighbors.base import NeighborsBase, KNeighborsMixin, SupervisedIntegerMixin \n",
    "from sklearn.model_selection import train_test_split\n",
    "from sklearn.neighbors import KNeighborsClassifier\n",
    "%load_ext pycodestyle_magic"
   ]
  },
  {
   "cell_type": "code",
   "execution_count": 16,
   "metadata": {},
   "outputs": [
    {
     "name": "stderr",
     "output_type": "stream",
     "text": [
      "80:1: W391 blank line at end of file\n"
     ]
    }
   ],
   "source": [
    "%%pycodestyle\n",
    "\n",
    "from scipy import stats\n",
    "from sklearn.neighbors import KDTree\n",
    "from scipy.spatial import distance_matrix\n",
    "\n",
    "\n",
    "class MyKNeighborsClassifier(NeighborsBase, KNeighborsMixin,\n",
    "                             SupervisedIntegerMixin, ClassifierMixin):\n",
    "\n",
    "    def __init__(self, n_neighbors, algorithm='brute'):\n",
    "        self.n_neighbors = n_neighbors\n",
    "        self.algorithm = algorithm\n",
    "\n",
    "    def fit(self, X, y):\n",
    "        self.X_fit = X\n",
    "        self.y_fit = y\n",
    "\n",
    "        self.classes = np.unique(y)\n",
    "        self.n_of_classes = len(self.classes)\n",
    "\n",
    "        if self.algorithm == 'kd_tree':\n",
    "            self.kd_tree = KDTree(X)\n",
    "\n",
    "        return self\n",
    "\n",
    "    def predict(self, X):\n",
    "        if self.algorithm == 'brute':\n",
    "            return self.predict_brute(X)\n",
    "\n",
    "        if self.algorithm == 'kd_tree':\n",
    "            return self.predict_kd_tree(X)\n",
    "\n",
    "    def predict_kd_tree(self, X):\n",
    "        distances, indicies = self.kd_tree.query(X, k=self.n_neighbors)\n",
    "        return stats.mode(np.asarray(self.y_fit[indicies]), axis=1)[0].T\n",
    "\n",
    "    def predict_brute(self, X):\n",
    "        distances = distance_matrix(self.X_fit, X)\n",
    "        knn_classes = self.y_fit[distances.argsort(axis=0)][:self.n_neighbors]\n",
    "        return stats.mode(knn_classes, axis=0)[0]\n",
    "\n",
    "    def predict_proba(self, X):\n",
    "        if self.algorithm == 'brute':\n",
    "            return self.predict_proba_brute(X)\n",
    "        if self.algorithm == 'kd_tree':\n",
    "            return self.predict_proba_kd_tree(X)\n",
    "\n",
    "    def predict_proba_kd_tree(self, X):\n",
    "        distances, indicies = self.kd_tree.query(X, k=self.n_neighbors)\n",
    "        knn_classes = self.y_fit[indicies]\n",
    "        counts = np.empty((X.shape[0], 0))\n",
    "\n",
    "        for cls in self.classes:\n",
    "            probs = np.mean(knn_classes == cls, axis=1).reshape(X.shape[0], 1)\n",
    "            counts = np.append(counts, probs, axis=1)\n",
    "\n",
    "        return counts\n",
    "\n",
    "    def predict_proba_brute(self, X):\n",
    "        distances = distance_matrix(self.X_fit, X)\n",
    "        knn_classes = self.y_fit[distances.argsort(axis=0)][:self.n_neighbors]\n",
    "        counts = np.empty((X.shape[0], 0))\n",
    "\n",
    "        for cls in self.classes:\n",
    "            probs = np.mean(knn_classes == cls, axis=0).reshape(X.shape[0], 1)\n",
    "            counts = np.append(counts, probs, axis=1)\n",
    "\n",
    "        return counts\n",
    "\n",
    "    \"\"\"\n",
    "    Я конечно написал функцию, но в пямяти не помещается, эх\n",
    "    def distance(self, x, y):\n",
    "        return np.sum(np.abs(y[np.newaxis,:,:]-x[:,np.newaxis,:])**2, axis=-1)\n",
    "    \"\"\"\n",
    "\n",
    "    def score(self, X, y):\n",
    "        y_pred = self.predict(X)\n",
    "        return np.mean(y_pred == y)"
   ]
  },
  {
   "cell_type": "markdown",
   "metadata": {},
   "source": [
    "**IRIS**"
   ]
  },
  {
   "cell_type": "code",
   "execution_count": 3,
   "metadata": {},
   "outputs": [],
   "source": [
    "iris = datasets.load_iris()"
   ]
  },
  {
   "cell_type": "code",
   "execution_count": 4,
   "metadata": {},
   "outputs": [],
   "source": [
    "X_train, X_test, y_train, y_test = train_test_split(iris.data, iris.target, test_size=0.1, stratify=iris.target)"
   ]
  },
  {
   "cell_type": "code",
   "execution_count": 5,
   "metadata": {},
   "outputs": [],
   "source": [
    "clf = KNeighborsClassifier(n_neighbors=2)\n",
    "my_clf = MyKNeighborsClassifier(n_neighbors=2)"
   ]
  },
  {
   "cell_type": "code",
   "execution_count": 6,
   "metadata": {},
   "outputs": [
    {
     "name": "stdout",
     "output_type": "stream",
     "text": [
      "CPU times: user 1.47 ms, sys: 1.01 ms, total: 2.48 ms\n",
      "Wall time: 14.1 ms\n"
     ]
    },
    {
     "data": {
      "text/plain": [
       "KNeighborsClassifier(algorithm='auto', leaf_size=30, metric='minkowski',\n",
       "           metric_params=None, n_jobs=None, n_neighbors=2, p=2,\n",
       "           weights='uniform')"
      ]
     },
     "execution_count": 6,
     "metadata": {},
     "output_type": "execute_result"
    }
   ],
   "source": [
    "%time clf.fit(X_train, y_train)"
   ]
  },
  {
   "cell_type": "code",
   "execution_count": 7,
   "metadata": {},
   "outputs": [
    {
     "name": "stdout",
     "output_type": "stream",
     "text": [
      "CPU times: user 178 µs, sys: 97 µs, total: 275 µs\n",
      "Wall time: 234 µs\n"
     ]
    },
    {
     "data": {
      "text/plain": [
       "MyKNeighborsClassifier(algorithm='brute', n_neighbors=2)"
      ]
     },
     "execution_count": 7,
     "metadata": {},
     "output_type": "execute_result"
    }
   ],
   "source": [
    "%time my_clf.fit(X_train, y_train)"
   ]
  },
  {
   "cell_type": "code",
   "execution_count": 8,
   "metadata": {},
   "outputs": [
    {
     "name": "stdout",
     "output_type": "stream",
     "text": [
      "CPU times: user 2.45 ms, sys: 1.59 ms, total: 4.05 ms\n",
      "Wall time: 3.26 ms\n"
     ]
    },
    {
     "data": {
      "text/plain": [
       "array([1, 1, 1, 0, 2, 2, 0, 0, 2, 1, 2, 0, 0, 1, 2])"
      ]
     },
     "execution_count": 8,
     "metadata": {},
     "output_type": "execute_result"
    }
   ],
   "source": [
    "%time clf.predict(X_test)"
   ]
  },
  {
   "cell_type": "code",
   "execution_count": 9,
   "metadata": {},
   "outputs": [
    {
     "name": "stdout",
     "output_type": "stream",
     "text": [
      "CPU times: user 1.85 ms, sys: 959 µs, total: 2.81 ms\n",
      "Wall time: 1.92 ms\n"
     ]
    },
    {
     "data": {
      "text/plain": [
       "array([[1, 1, 1, 0, 2, 2, 0, 0, 2, 1, 2, 0, 0, 1, 2]])"
      ]
     },
     "execution_count": 9,
     "metadata": {},
     "output_type": "execute_result"
    }
   ],
   "source": [
    "%time my_clf.predict(X_test)"
   ]
  },
  {
   "cell_type": "code",
   "execution_count": 10,
   "metadata": {},
   "outputs": [
    {
     "name": "stdout",
     "output_type": "stream",
     "text": [
      "CPU times: user 1.56 ms, sys: 622 µs, total: 2.18 ms\n",
      "Wall time: 1.71 ms\n"
     ]
    },
    {
     "data": {
      "text/plain": [
       "array([[0., 1., 0.],\n",
       "       [0., 1., 0.],\n",
       "       [0., 1., 0.],\n",
       "       [1., 0., 0.],\n",
       "       [0., 0., 1.],\n",
       "       [0., 0., 1.],\n",
       "       [1., 0., 0.],\n",
       "       [1., 0., 0.],\n",
       "       [0., 0., 1.],\n",
       "       [0., 1., 0.],\n",
       "       [0., 0., 1.],\n",
       "       [1., 0., 0.],\n",
       "       [1., 0., 0.],\n",
       "       [0., 1., 0.],\n",
       "       [0., 0., 1.]])"
      ]
     },
     "execution_count": 10,
     "metadata": {},
     "output_type": "execute_result"
    }
   ],
   "source": [
    "%time clf.predict_proba(X_test)"
   ]
  },
  {
   "cell_type": "code",
   "execution_count": 11,
   "metadata": {},
   "outputs": [
    {
     "name": "stdout",
     "output_type": "stream",
     "text": [
      "CPU times: user 970 µs, sys: 609 µs, total: 1.58 ms\n",
      "Wall time: 1.07 ms\n"
     ]
    },
    {
     "data": {
      "text/plain": [
       "array([[0., 1., 0.],\n",
       "       [0., 1., 0.],\n",
       "       [0., 1., 0.],\n",
       "       [1., 0., 0.],\n",
       "       [0., 0., 1.],\n",
       "       [0., 0., 1.],\n",
       "       [1., 0., 0.],\n",
       "       [1., 0., 0.],\n",
       "       [0., 0., 1.],\n",
       "       [0., 1., 0.],\n",
       "       [0., 0., 1.],\n",
       "       [1., 0., 0.],\n",
       "       [1., 0., 0.],\n",
       "       [0., 1., 0.],\n",
       "       [0., 0., 1.]])"
      ]
     },
     "execution_count": 11,
     "metadata": {},
     "output_type": "execute_result"
    }
   ],
   "source": [
    "%time my_clf.predict_proba(X_test)"
   ]
  },
  {
   "cell_type": "code",
   "execution_count": 12,
   "metadata": {},
   "outputs": [
    {
     "data": {
      "text/plain": [
       "1.0"
      ]
     },
     "execution_count": 12,
     "metadata": {},
     "output_type": "execute_result"
    }
   ],
   "source": [
    "clf.score(X_test, y_test)"
   ]
  },
  {
   "cell_type": "code",
   "execution_count": 13,
   "metadata": {},
   "outputs": [
    {
     "data": {
      "text/plain": [
       "1.0"
      ]
     },
     "execution_count": 13,
     "metadata": {},
     "output_type": "execute_result"
    }
   ],
   "source": [
    "my_clf.score(X_test, y_test)"
   ]
  },
  {
   "cell_type": "markdown",
   "metadata": {},
   "source": [
    "Задание 3"
   ]
  },
  {
   "cell_type": "code",
   "execution_count": 14,
   "metadata": {},
   "outputs": [],
   "source": [
    "max_neighbors = 150\n",
    "n_tests = 500\n",
    "\n",
    "n_neighbors = np.arange(1,max_neighbors)\n",
    "score = np.zeros(max_neighbors-1)\n",
    "\n",
    "for n in n_neighbors:\n",
    "    scores = []\n",
    "    for test in range(n_tests):\n",
    "        X_train, X_test, y_train, y_test = train_test_split(iris.data, iris.target, test_size=0.1, stratify=iris.target)\n",
    "        my_clf = MyKNeighborsClassifier(n_neighbors=n,algorithm='brute')\n",
    "        my_clf.fit(X_train, y_train)\n",
    "        scores.append(my_clf.score(X_test, y_test))\n",
    "    score[n-1] = np.mean(scores)"
   ]
  },
  {
   "cell_type": "code",
   "execution_count": 15,
   "metadata": {},
   "outputs": [
    {
     "data": {
      "text/plain": [
       "Text(0.5, 1.0, 'Finding the best number of neighbors')"
      ]
     },
     "execution_count": 15,
     "metadata": {},
     "output_type": "execute_result"
    },
    {
     "data": {
      "image/png": "[encoded data removed]",
      "text/plain": [
       "<Figure size 432x288 with 1 Axes>"
      ]
     },
     "metadata": {
      "needs_background": "light"
     },
     "output_type": "display_data"
    }
   ],
   "source": [
    "fig = plt.figure()\n",
    "axes = fig.add_subplot(111)\n",
    "axes.plot(n_neighbors,score)\n",
    "\n",
    "xpos = score.argmax()\n",
    "xmax = n_neighbors[xpos]\n",
    "ymax = score.max()\n",
    "\n",
    "axes.annotate('local max', xy=(xmax, ymax), xytext=(xmax-6, ymax-0.1),\n",
    "            arrowprops=dict(arrowstyle=\"->\",connectionstyle=\"angle,angleA=0,angleB=90\")\n",
    "            )\n",
    "axes.set_ylim(0.3,1)\n",
    "axes.set_ylabel('Average score ('+str(n_tests)+' tests)')\n",
    "axes.set_xlabel('Number of nearest neighbors')\n",
    "axes.set_title('Finding the best number of neighbors')"
   ]
  },
  {
   "cell_type": "code",
   "execution_count": 16,
   "metadata": {},
   "outputs": [
    {
     "name": "stdout",
     "output_type": "stream",
     "text": [
      "The best number of neighbors is 17\n"
     ]
    }
   ],
   "source": [
    "print('The best number of neighbors is '+str(xmax))"
   ]
  },
  {
   "cell_type": "markdown",
   "metadata": {},
   "source": [
    "**MNIST**"
   ]
  },
  {
   "cell_type": "code",
   "execution_count": 3,
   "metadata": {},
   "outputs": [],
   "source": [
    "from sklearn.datasets import fetch_openml\n",
    "\n",
    "mnist = fetch_openml('mnist_784')\n",
    "X_train, X_test, y_train, y_test = train_test_split(mnist.data, mnist.target, test_size=0.01, stratify=mnist.target)"
   ]
  },
  {
   "cell_type": "code",
   "execution_count": 18,
   "metadata": {},
   "outputs": [],
   "source": [
    "X_train=X_train.astype(float)\n",
    "X_test=X_test.astype(float)\n",
    "y_train=y_train.astype(int)\n",
    "y_test=y_test.astype(int)"
   ]
  },
  {
   "cell_type": "code",
   "execution_count": 19,
   "metadata": {},
   "outputs": [],
   "source": [
    "clf = KNeighborsClassifier(n_neighbors=2)\n",
    "my_clf = MyKNeighborsClassifier(n_neighbors=2)"
   ]
  },
  {
   "cell_type": "code",
   "execution_count": 20,
   "metadata": {},
   "outputs": [
    {
     "name": "stdout",
     "output_type": "stream",
     "text": [
      "CPU times: user 28 s, sys: 516 ms, total: 28.5 s\n",
      "Wall time: 29.9 s\n"
     ]
    },
    {
     "data": {
      "text/plain": [
       "KNeighborsClassifier(algorithm='auto', leaf_size=30, metric='minkowski',\n",
       "           metric_params=None, n_jobs=None, n_neighbors=2, p=2,\n",
       "           weights='uniform')"
      ]
     },
     "execution_count": 20,
     "metadata": {},
     "output_type": "execute_result"
    }
   ],
   "source": [
    "%time clf.fit(X_train, y_train)"
   ]
  },
  {
   "cell_type": "code",
   "execution_count": 21,
   "metadata": {},
   "outputs": [
    {
     "name": "stdout",
     "output_type": "stream",
     "text": [
      "CPU times: user 2.66 ms, sys: 1.44 ms, total: 4.1 ms\n",
      "Wall time: 2.55 ms\n"
     ]
    },
    {
     "data": {
      "text/plain": [
       "MyKNeighborsClassifier(algorithm='brute', n_neighbors=2)"
      ]
     },
     "execution_count": 21,
     "metadata": {},
     "output_type": "execute_result"
    }
   ],
   "source": [
    "%time my_clf.fit(X_train, y_train)"
   ]
  },
  {
   "cell_type": "code",
   "execution_count": 22,
   "metadata": {},
   "outputs": [
    {
     "name": "stdout",
     "output_type": "stream",
     "text": [
      "CPU times: user 1min 1s, sys: 772 ms, total: 1min 2s\n",
      "Wall time: 1min 6s\n"
     ]
    },
    {
     "data": {
      "text/plain": [
       "array([8, 1, 3, 5, 4, 6, 7, 7, 5, 1, 4, 3, 3, 6, 5, 5, 2, 7, 1, 9, 6, 2,\n",
       "       4, 7, 9, 3, 1, 7, 4, 1, 1, 3, 7, 1, 5, 7, 8, 4, 2, 2, 4, 4, 3, 8,\n",
       "       2, 7, 7, 3, 5, 3, 4, 0, 2, 5, 0, 5, 6, 1, 9, 1, 4, 8, 3, 6, 2, 2,\n",
       "       7, 1, 1, 2, 2, 6, 7, 6, 6, 3, 3, 4, 5, 1, 5, 2, 1, 9, 9, 0, 5, 6,\n",
       "       4, 9, 7, 2, 5, 9, 9, 4, 9, 7, 4, 1, 7, 0, 6, 9, 5, 2, 4, 3, 6, 0,\n",
       "       2, 6, 1, 0, 2, 0, 3, 7, 9, 8, 4, 3, 1, 6, 8, 2, 5, 7, 2, 5, 7, 1,\n",
       "       1, 4, 9, 9, 4, 4, 1, 3, 6, 7, 5, 4, 5, 6, 3, 6, 2, 0, 3, 4, 2, 9,\n",
       "       3, 8, 2, 7, 1, 1, 6, 6, 0, 5, 1, 3, 1, 4, 9, 1, 3, 5, 3, 5, 2, 3,\n",
       "       4, 8, 8, 5, 3, 1, 5, 6, 5, 7, 0, 6, 0, 5, 4, 7, 6, 0, 7, 1, 1, 7,\n",
       "       1, 7, 4, 0, 3, 3, 4, 7, 1, 7, 1, 4, 1, 1, 9, 4, 0, 2, 2, 1, 9, 3,\n",
       "       2, 2, 3, 2, 3, 5, 2, 2, 5, 1, 3, 0, 9, 4, 2, 1, 0, 0, 8, 5, 2, 9,\n",
       "       0, 0, 4, 0, 6, 5, 3, 1, 8, 8, 7, 5, 5, 9, 4, 1, 2, 5, 0, 6, 8, 2,\n",
       "       9, 0, 1, 8, 1, 5, 9, 0, 7, 7, 7, 2, 2, 4, 6, 6, 5, 2, 4, 0, 8, 7,\n",
       "       6, 4, 4, 1, 4, 4, 7, 0, 8, 8, 6, 3, 7, 0, 1, 4, 0, 9, 3, 4, 8, 8,\n",
       "       8, 0, 8, 3, 0, 9, 2, 9, 1, 2, 4, 0, 8, 7, 7, 6, 4, 7, 2, 2, 7, 2,\n",
       "       4, 2, 6, 2, 7, 3, 6, 2, 8, 0, 9, 8, 0, 6, 6, 9, 3, 5, 9, 1, 1, 1,\n",
       "       5, 3, 3, 8, 1, 1, 3, 4, 7, 7, 6, 2, 4, 2, 8, 8, 1, 3, 6, 3, 3, 2,\n",
       "       9, 0, 6, 3, 7, 7, 9, 7, 5, 3, 9, 8, 8, 4, 0, 8, 2, 0, 3, 4, 6, 0,\n",
       "       7, 1, 6, 0, 5, 4, 6, 1, 0, 2, 6, 7, 0, 6, 0, 5, 6, 3, 8, 9, 5, 4,\n",
       "       9, 8, 7, 7, 4, 3, 5, 5, 0, 0, 6, 9, 1, 0, 7, 4, 8, 3, 3, 6, 8, 9,\n",
       "       9, 2, 0, 9, 8, 0, 0, 3, 1, 7, 6, 8, 6, 9, 6, 2, 8, 5, 9, 6, 3, 3,\n",
       "       6, 2, 2, 1, 2, 0, 6, 7, 0, 0, 6, 1, 2, 4, 0, 9, 8, 7, 8, 3, 7, 8,\n",
       "       0, 1, 5, 7, 9, 7, 4, 1, 3, 5, 9, 4, 4, 1, 0, 8, 1, 0, 8, 2, 7, 7,\n",
       "       3, 4, 1, 1, 8, 5, 4, 4, 3, 1, 6, 5, 8, 1, 1, 5, 2, 3, 1, 4, 7, 9,\n",
       "       3, 3, 2, 9, 0, 6, 9, 7, 4, 7, 0, 9, 8, 0, 5, 2, 9, 5, 2, 3, 1, 6,\n",
       "       0, 1, 9, 2, 3, 7, 0, 5, 5, 3, 5, 8, 1, 8, 6, 7, 9, 4, 1, 1, 2, 7,\n",
       "       3, 9, 4, 3, 8, 8, 1, 2, 9, 0, 0, 2, 6, 6, 8, 2, 0, 6, 8, 6, 0, 8,\n",
       "       9, 0, 9, 5, 0, 6, 9, 5, 4, 7, 5, 7, 2, 3, 8, 1, 7, 8, 8, 2, 8, 9,\n",
       "       9, 1, 2, 3, 1, 5, 0, 7, 6, 5, 5, 1, 7, 7, 1, 3, 7, 7, 9, 5, 4, 4,\n",
       "       5, 3, 6, 3, 6, 6, 1, 7, 5, 9, 8, 6, 3, 0, 9, 7, 7, 3, 6, 0, 5, 4,\n",
       "       0, 5, 5, 9, 6, 6, 2, 4, 6, 9, 9, 5, 3, 3, 1, 7, 0, 8, 2, 1, 4, 4,\n",
       "       3, 6, 4, 3, 8, 8, 1, 5, 5, 6, 6, 9, 4, 1, 7, 1, 4, 1])"
      ]
     },
     "execution_count": 22,
     "metadata": {},
     "output_type": "execute_result"
    }
   ],
   "source": [
    "%time clf.predict(X_test)"
   ]
  },
  {
   "cell_type": "code",
   "execution_count": 23,
   "metadata": {},
   "outputs": [
    {
     "name": "stdout",
     "output_type": "stream",
     "text": [
      "CPU times: user 7min 45s, sys: 4min 6s, total: 11min 51s\n",
      "Wall time: 6min 56s\n"
     ]
    },
    {
     "data": {
      "text/plain": [
       "array([[8, 1, 3, 5, 4, 6, 7, 7, 5, 1, 4, 3, 3, 6, 5, 5, 2, 7, 1, 9, 6, 2,\n",
       "        4, 7, 9, 3, 1, 7, 4, 1, 1, 3, 7, 1, 5, 7, 8, 4, 2, 2, 4, 4, 3, 8,\n",
       "        2, 7, 7, 3, 5, 3, 4, 0, 2, 5, 0, 5, 6, 1, 9, 1, 4, 8, 3, 6, 2, 2,\n",
       "        7, 1, 1, 2, 2, 6, 7, 6, 6, 3, 3, 4, 5, 1, 5, 2, 1, 9, 9, 0, 5, 6,\n",
       "        4, 9, 7, 2, 5, 9, 9, 4, 9, 7, 4, 1, 7, 0, 6, 9, 5, 2, 4, 3, 6, 0,\n",
       "        2, 6, 1, 0, 2, 0, 3, 7, 9, 8, 4, 3, 1, 6, 8, 2, 5, 7, 2, 5, 7, 1,\n",
       "        1, 4, 9, 9, 4, 4, 1, 3, 6, 7, 5, 4, 5, 6, 3, 6, 2, 0, 3, 4, 2, 9,\n",
       "        3, 8, 2, 7, 1, 1, 6, 6, 0, 5, 1, 3, 1, 4, 9, 1, 3, 5, 3, 5, 2, 3,\n",
       "        4, 8, 8, 5, 3, 1, 5, 6, 5, 7, 0, 6, 0, 5, 4, 7, 6, 0, 7, 1, 1, 7,\n",
       "        1, 7, 4, 0, 3, 3, 4, 7, 1, 7, 1, 4, 1, 1, 9, 4, 0, 2, 2, 1, 9, 3,\n",
       "        2, 2, 3, 2, 3, 5, 2, 2, 5, 1, 3, 0, 9, 4, 2, 1, 0, 0, 8, 5, 2, 9,\n",
       "        0, 0, 4, 0, 6, 5, 3, 1, 8, 8, 7, 5, 5, 9, 4, 1, 2, 5, 0, 6, 8, 2,\n",
       "        9, 0, 1, 8, 1, 5, 9, 0, 7, 7, 7, 2, 2, 4, 6, 6, 5, 2, 4, 0, 8, 7,\n",
       "        6, 4, 4, 1, 4, 4, 7, 0, 8, 8, 6, 3, 7, 0, 1, 4, 0, 9, 3, 4, 8, 8,\n",
       "        8, 0, 8, 3, 0, 9, 2, 9, 1, 2, 4, 0, 8, 7, 7, 6, 4, 7, 2, 2, 7, 2,\n",
       "        4, 2, 6, 2, 7, 3, 6, 2, 8, 0, 9, 8, 0, 6, 6, 9, 3, 5, 9, 1, 1, 1,\n",
       "        5, 3, 3, 8, 1, 1, 3, 4, 7, 7, 6, 2, 4, 2, 8, 8, 1, 3, 6, 3, 3, 2,\n",
       "        9, 0, 6, 3, 7, 7, 9, 7, 5, 3, 9, 8, 8, 4, 0, 8, 2, 0, 3, 4, 6, 0,\n",
       "        7, 1, 6, 0, 5, 4, 6, 1, 0, 2, 6, 7, 0, 6, 0, 5, 6, 3, 8, 9, 5, 4,\n",
       "        9, 8, 7, 7, 4, 3, 5, 5, 0, 0, 6, 9, 1, 0, 7, 4, 8, 3, 3, 6, 8, 9,\n",
       "        9, 2, 0, 9, 8, 0, 0, 3, 1, 7, 6, 8, 6, 9, 6, 2, 8, 5, 9, 6, 3, 3,\n",
       "        6, 2, 2, 1, 2, 0, 6, 7, 0, 0, 6, 1, 2, 4, 0, 9, 8, 7, 8, 3, 7, 8,\n",
       "        0, 1, 5, 7, 9, 7, 4, 1, 3, 5, 9, 4, 4, 1, 0, 8, 1, 0, 8, 2, 7, 7,\n",
       "        3, 4, 1, 1, 8, 5, 4, 4, 3, 1, 6, 5, 8, 1, 1, 5, 2, 3, 1, 4, 7, 9,\n",
       "        3, 3, 2, 9, 0, 6, 9, 7, 4, 7, 0, 9, 8, 0, 5, 2, 9, 5, 2, 3, 1, 6,\n",
       "        0, 1, 9, 2, 3, 7, 0, 5, 5, 3, 5, 8, 1, 8, 6, 7, 9, 4, 1, 1, 2, 7,\n",
       "        3, 9, 4, 3, 8, 8, 1, 2, 9, 0, 0, 2, 6, 6, 8, 2, 0, 6, 8, 6, 0, 8,\n",
       "        9, 0, 9, 5, 0, 6, 9, 5, 4, 7, 5, 7, 2, 3, 8, 1, 7, 8, 8, 2, 8, 9,\n",
       "        9, 1, 2, 3, 1, 5, 0, 7, 6, 5, 5, 1, 7, 7, 1, 3, 7, 7, 9, 5, 4, 4,\n",
       "        5, 3, 6, 3, 6, 6, 1, 7, 5, 9, 8, 6, 3, 0, 9, 7, 7, 3, 6, 0, 5, 4,\n",
       "        0, 5, 5, 9, 6, 6, 2, 4, 6, 9, 9, 5, 3, 3, 1, 7, 0, 8, 2, 1, 4, 4,\n",
       "        3, 6, 4, 3, 8, 8, 1, 5, 5, 6, 6, 9, 4, 1, 7, 1, 4, 1]])"
      ]
     },
     "execution_count": 23,
     "metadata": {},
     "output_type": "execute_result"
    }
   ],
   "source": [
    "%time my_clf.predict(X_test)"
   ]
  },
  {
   "cell_type": "code",
   "execution_count": null,
   "metadata": {},
   "outputs": [
    {
     "name": "stdout",
     "output_type": "stream",
     "text": [
      "CPU times: user 59.6 s, sys: 683 ms, total: 1min\n",
      "Wall time: 1min 1s\n"
     ]
    },
    {
     "data": {
      "text/plain": [
       "array([[0., 0., 0., ..., 0., 1., 0.],\n",
       "       [0., 1., 0., ..., 0., 0., 0.],\n",
       "       [0., 0., 0., ..., 0., 0., 0.],\n",
       "       ...,\n",
       "       [0., 1., 0., ..., 0., 0., 0.],\n",
       "       [0., 0., 0., ..., 0., 0., 0.],\n",
       "       [0., 1., 0., ..., 0., 0., 0.]])"
      ]
     },
     "execution_count": 24,
     "metadata": {},
     "output_type": "execute_result"
    }
   ],
   "source": [
    "%time clf.predict_proba(X_test)"
   ]
  },
  {
   "cell_type": "code",
   "execution_count": null,
   "metadata": {},
   "outputs": [
    {
     "name": "stdout",
     "output_type": "stream",
     "text": [
      "CPU times: user 7min 42s, sys: 4min 3s, total: 11min 45s\n",
      "Wall time: 6min 56s\n"
     ]
    },
    {
     "data": {
      "text/plain": [
       "array([[0., 0., 0., ..., 0., 1., 0.],\n",
       "       [0., 1., 0., ..., 0., 0., 0.],\n",
       "       [0., 0., 0., ..., 0., 0., 0.],\n",
       "       ...,\n",
       "       [0., 1., 0., ..., 0., 0., 0.],\n",
       "       [0., 0., 0., ..., 0., 0., 0.],\n",
       "       [0., 1., 0., ..., 0., 0., 0.]])"
      ]
     },
     "execution_count": 25,
     "metadata": {},
     "output_type": "execute_result"
    }
   ],
   "source": [
    "%time my_clf.predict_proba(X_test)"
   ]
  },
  {
   "cell_type": "code",
   "execution_count": null,
   "metadata": {},
   "outputs": [
    {
     "data": {
      "text/plain": [
       "0.9685714285714285"
      ]
     },
     "execution_count": 26,
     "metadata": {},
     "output_type": "execute_result"
    }
   ],
   "source": [
    "clf.score(X_test, y_test)"
   ]
  },
  {
   "cell_type": "code",
   "execution_count": null,
   "metadata": {},
   "outputs": [
    {
     "data": {
      "text/plain": [
       "0.9685714285714285"
      ]
     },
     "execution_count": 27,
     "metadata": {},
     "output_type": "execute_result"
    }
   ],
   "source": [
    "my_clf.score(X_test, y_test)"
   ]
  },
  {
   "cell_type": "markdown",
   "metadata": {},
   "source": [
    "Задание 4"
   ]
  },
  {
   "cell_type": "code",
   "execution_count": 4,
   "metadata": {},
   "outputs": [],
   "source": [
    "clf = KNeighborsClassifier(n_neighbors=2, algorithm='kd_tree')\n",
    "my_clf = MyKNeighborsClassifier(n_neighbors=2, algorithm='kd_tree')"
   ]
  },
  {
   "cell_type": "code",
   "execution_count": 5,
   "metadata": {},
   "outputs": [],
   "source": [
    "X_train, X_test, y_train, y_test = train_test_split(mnist.data, mnist.target, test_size=0.01, stratify=mnist.target)"
   ]
  },
  {
   "cell_type": "code",
   "execution_count": 6,
   "metadata": {},
   "outputs": [],
   "source": [
    "X_train=X_train.astype(float)\n",
    "X_test=X_test.astype(float)\n",
    "y_train=y_train.astype(int)\n",
    "y_test=y_test.astype(int)"
   ]
  },
  {
   "cell_type": "code",
   "execution_count": 7,
   "metadata": {},
   "outputs": [
    {
     "name": "stdout",
     "output_type": "stream",
     "text": [
      "CPU times: user 26.2 s, sys: 314 ms, total: 26.5 s\n",
      "Wall time: 27.7 s\n"
     ]
    },
    {
     "data": {
      "text/plain": [
       "KNeighborsClassifier(algorithm='kd_tree', leaf_size=30, metric='minkowski',\n",
       "           metric_params=None, n_jobs=None, n_neighbors=2, p=2,\n",
       "           weights='uniform')"
      ]
     },
     "execution_count": 7,
     "metadata": {},
     "output_type": "execute_result"
    }
   ],
   "source": [
    "%time clf.fit(X_train, y_train)"
   ]
  },
  {
   "cell_type": "code",
   "execution_count": 8,
   "metadata": {},
   "outputs": [
    {
     "name": "stdout",
     "output_type": "stream",
     "text": [
      "CPU times: user 26.4 s, sys: 347 ms, total: 26.8 s\n",
      "Wall time: 27.7 s\n"
     ]
    },
    {
     "data": {
      "text/plain": [
       "MyKNeighborsClassifier(algorithm='kd_tree', n_neighbors=2)"
      ]
     },
     "execution_count": 8,
     "metadata": {},
     "output_type": "execute_result"
    }
   ],
   "source": [
    "%time my_clf.fit(X_train, y_train)"
   ]
  },
  {
   "cell_type": "code",
   "execution_count": 9,
   "metadata": {},
   "outputs": [
    {
     "name": "stdout",
     "output_type": "stream",
     "text": [
      "CPU times: user 59.1 s, sys: 431 ms, total: 59.6 s\n",
      "Wall time: 1min\n"
     ]
    },
    {
     "data": {
      "text/plain": [
       "array([8, 2, 4, 6, 8, 1, 8, 2, 1, 2, 5, 3, 3, 7, 4, 9, 7, 2, 9, 8, 5, 5,\n",
       "       1, 0, 3, 5, 5, 6, 5, 8, 8, 7, 7, 5, 9, 4, 2, 1, 6, 4, 1, 0, 1, 2,\n",
       "       3, 8, 9, 7, 3, 2, 1, 7, 9, 7, 1, 0, 3, 8, 9, 1, 7, 9, 9, 1, 8, 0,\n",
       "       3, 5, 6, 8, 1, 1, 4, 9, 0, 6, 7, 3, 2, 3, 1, 1, 7, 1, 8, 0, 7, 4,\n",
       "       8, 7, 5, 1, 1, 0, 9, 5, 7, 7, 4, 8, 7, 2, 3, 3, 3, 1, 7, 4, 0, 8,\n",
       "       6, 9, 6, 1, 2, 6, 2, 1, 5, 2, 1, 2, 8, 9, 7, 5, 5, 9, 4, 2, 4, 1,\n",
       "       1, 9, 2, 4, 6, 5, 3, 6, 9, 3, 4, 3, 0, 0, 2, 7, 6, 1, 2, 3, 6, 5,\n",
       "       0, 8, 5, 6, 7, 8, 8, 5, 0, 6, 3, 7, 8, 3, 8, 7, 4, 5, 7, 4, 3, 5,\n",
       "       6, 8, 1, 8, 6, 2, 5, 6, 8, 8, 2, 3, 4, 3, 4, 9, 0, 6, 9, 5, 4, 1,\n",
       "       2, 5, 2, 7, 0, 3, 7, 0, 7, 0, 1, 9, 9, 8, 1, 5, 0, 2, 9, 1, 9, 6,\n",
       "       6, 0, 8, 1, 2, 1, 5, 8, 1, 7, 6, 6, 2, 1, 1, 6, 4, 4, 6, 6, 1, 0,\n",
       "       1, 5, 0, 5, 1, 2, 4, 8, 1, 7, 7, 3, 4, 2, 0, 5, 2, 8, 6, 4, 8, 6,\n",
       "       3, 3, 9, 2, 5, 4, 2, 3, 4, 4, 3, 8, 7, 1, 6, 1, 9, 7, 4, 8, 0, 9,\n",
       "       6, 4, 1, 2, 7, 3, 0, 1, 5, 4, 0, 2, 1, 2, 2, 7, 8, 1, 0, 2, 1, 6,\n",
       "       5, 3, 9, 3, 9, 6, 9, 4, 8, 6, 0, 6, 3, 3, 3, 7, 2, 2, 5, 9, 7, 0,\n",
       "       8, 6, 5, 2, 3, 8, 8, 5, 4, 2, 8, 9, 2, 2, 2, 9, 2, 9, 7, 9, 6, 5,\n",
       "       7, 4, 0, 1, 2, 3, 2, 5, 6, 8, 5, 9, 0, 9, 4, 1, 9, 4, 6, 7, 8, 1,\n",
       "       6, 4, 5, 6, 9, 3, 7, 4, 8, 5, 9, 8, 5, 1, 2, 7, 0, 1, 9, 8, 0, 3,\n",
       "       6, 2, 8, 4, 6, 2, 1, 4, 1, 3, 9, 1, 5, 6, 3, 7, 6, 9, 2, 8, 6, 1,\n",
       "       3, 2, 3, 8, 7, 9, 1, 1, 2, 8, 4, 9, 6, 7, 7, 4, 1, 0, 9, 5, 0, 2,\n",
       "       9, 4, 3, 6, 7, 0, 3, 0, 5, 1, 7, 0, 0, 0, 7, 9, 2, 7, 8, 0, 5, 3,\n",
       "       3, 1, 9, 0, 3, 3, 1, 0, 7, 9, 7, 9, 6, 3, 5, 1, 4, 6, 8, 2, 4, 3,\n",
       "       6, 4, 9, 9, 7, 3, 4, 3, 1, 1, 0, 1, 4, 2, 0, 4, 7, 2, 8, 5, 1, 9,\n",
       "       1, 6, 5, 0, 5, 2, 4, 0, 0, 8, 0, 1, 9, 0, 9, 7, 4, 3, 0, 4, 6, 0,\n",
       "       4, 6, 1, 1, 1, 4, 0, 9, 0, 0, 8, 4, 4, 3, 0, 6, 2, 8, 9, 9, 6, 7,\n",
       "       7, 0, 7, 7, 1, 1, 4, 8, 3, 5, 0, 5, 0, 5, 1, 7, 2, 7, 2, 1, 9, 9,\n",
       "       5, 9, 8, 5, 1, 5, 6, 4, 0, 4, 8, 8, 3, 0, 5, 2, 2, 8, 2, 0, 0, 6,\n",
       "       9, 9, 1, 3, 0, 3, 4, 7, 2, 5, 1, 4, 6, 1, 3, 5, 4, 5, 4, 1, 6, 3,\n",
       "       4, 8, 4, 3, 4, 0, 6, 4, 6, 3, 2, 7, 6, 4, 9, 3, 6, 8, 3, 0, 4, 4,\n",
       "       6, 0, 1, 0, 3, 3, 5, 2, 2, 2, 6, 5, 6, 9, 5, 3, 0, 6, 7, 0, 2, 3,\n",
       "       1, 4, 4, 8, 7, 4, 9, 3, 0, 7, 8, 8, 4, 1, 1, 7, 3, 3, 0, 7, 3, 9,\n",
       "       5, 0, 1, 7, 9, 8, 5, 6, 1, 8, 6, 0, 0, 9, 1, 1, 6, 1])"
      ]
     },
     "execution_count": 9,
     "metadata": {},
     "output_type": "execute_result"
    }
   ],
   "source": [
    "%time clf.predict(X_test)"
   ]
  },
  {
   "cell_type": "code",
   "execution_count": 10,
   "metadata": {},
   "outputs": [
    {
     "name": "stdout",
     "output_type": "stream",
     "text": [
      "CPU times: user 56.2 s, sys: 531 ms, total: 56.8 s\n",
      "Wall time: 1min 6s\n"
     ]
    },
    {
     "data": {
      "text/plain": [
       "array([[8, 2, 4, 6, 8, 1, 8, 2, 1, 2, 5, 3, 3, 7, 4, 9, 7, 2, 9, 8, 5, 5,\n",
       "        1, 0, 3, 5, 5, 6, 5, 8, 8, 7, 7, 5, 9, 4, 2, 1, 6, 4, 1, 0, 1, 2,\n",
       "        3, 8, 9, 7, 3, 2, 1, 7, 9, 7, 1, 0, 3, 8, 9, 1, 7, 9, 9, 1, 8, 0,\n",
       "        3, 5, 6, 8, 1, 1, 4, 9, 0, 6, 7, 3, 2, 3, 1, 1, 7, 1, 8, 0, 7, 4,\n",
       "        8, 7, 5, 1, 1, 0, 9, 5, 7, 7, 4, 8, 7, 2, 3, 3, 3, 1, 7, 4, 0, 8,\n",
       "        6, 9, 6, 1, 2, 6, 2, 1, 5, 2, 1, 2, 8, 9, 7, 5, 5, 9, 4, 2, 4, 1,\n",
       "        1, 9, 2, 4, 6, 5, 3, 6, 9, 3, 4, 3, 0, 0, 2, 7, 6, 1, 2, 3, 6, 5,\n",
       "        0, 8, 5, 6, 7, 8, 8, 5, 0, 6, 3, 7, 8, 3, 8, 7, 4, 5, 7, 4, 3, 5,\n",
       "        6, 8, 1, 8, 6, 2, 5, 6, 8, 8, 2, 3, 4, 3, 4, 9, 0, 6, 9, 5, 4, 1,\n",
       "        2, 5, 2, 7, 0, 3, 7, 0, 7, 0, 1, 9, 9, 8, 1, 5, 0, 2, 9, 1, 9, 6,\n",
       "        6, 0, 8, 1, 2, 1, 5, 8, 1, 7, 6, 6, 2, 1, 1, 6, 4, 4, 6, 6, 1, 0,\n",
       "        1, 5, 0, 5, 1, 2, 4, 8, 1, 7, 7, 3, 4, 2, 0, 5, 2, 8, 6, 4, 8, 6,\n",
       "        3, 3, 9, 2, 5, 4, 2, 3, 4, 4, 3, 8, 7, 1, 6, 1, 9, 7, 4, 8, 0, 9,\n",
       "        6, 4, 1, 2, 7, 3, 0, 1, 5, 4, 0, 2, 1, 2, 2, 7, 8, 1, 0, 2, 1, 6,\n",
       "        5, 3, 9, 3, 9, 6, 9, 4, 8, 6, 0, 6, 3, 3, 3, 7, 2, 2, 5, 9, 7, 0,\n",
       "        8, 6, 5, 2, 3, 8, 8, 5, 4, 2, 8, 9, 2, 2, 2, 9, 2, 9, 7, 9, 6, 5,\n",
       "        7, 4, 0, 1, 2, 3, 2, 5, 6, 8, 5, 9, 0, 9, 4, 1, 9, 4, 6, 7, 8, 1,\n",
       "        6, 4, 5, 6, 9, 3, 7, 4, 8, 5, 9, 8, 5, 1, 2, 7, 0, 1, 9, 8, 0, 3,\n",
       "        6, 2, 8, 4, 6, 2, 1, 4, 1, 3, 9, 1, 5, 6, 3, 7, 6, 9, 2, 8, 6, 1,\n",
       "        3, 2, 3, 8, 7, 9, 1, 1, 2, 8, 4, 9, 6, 7, 7, 4, 1, 0, 9, 5, 0, 2,\n",
       "        9, 4, 3, 6, 7, 0, 3, 0, 5, 1, 7, 0, 0, 0, 7, 9, 2, 7, 8, 0, 5, 3,\n",
       "        3, 1, 9, 0, 3, 3, 1, 0, 7, 9, 7, 9, 6, 3, 5, 1, 4, 6, 8, 2, 4, 3,\n",
       "        6, 4, 9, 9, 7, 3, 4, 3, 1, 1, 0, 1, 4, 2, 0, 4, 7, 2, 8, 5, 1, 9,\n",
       "        1, 6, 5, 0, 5, 2, 4, 0, 0, 8, 0, 1, 9, 0, 9, 7, 4, 3, 0, 4, 6, 0,\n",
       "        4, 6, 1, 1, 1, 4, 0, 9, 0, 0, 8, 4, 4, 3, 0, 6, 2, 8, 9, 9, 6, 7,\n",
       "        7, 0, 7, 7, 1, 1, 4, 8, 3, 5, 0, 5, 0, 5, 1, 7, 2, 7, 2, 1, 9, 9,\n",
       "        5, 9, 8, 5, 1, 5, 6, 4, 0, 4, 8, 8, 3, 0, 5, 2, 2, 8, 2, 0, 0, 6,\n",
       "        9, 9, 1, 3, 0, 3, 4, 7, 2, 5, 1, 4, 6, 1, 3, 5, 4, 5, 4, 1, 6, 3,\n",
       "        4, 8, 4, 3, 4, 0, 6, 4, 6, 3, 2, 7, 6, 4, 9, 3, 6, 8, 3, 0, 4, 4,\n",
       "        6, 0, 1, 0, 3, 3, 5, 2, 2, 2, 6, 5, 6, 9, 5, 3, 0, 6, 7, 0, 2, 3,\n",
       "        1, 4, 4, 8, 7, 4, 9, 3, 0, 7, 8, 8, 4, 1, 1, 7, 3, 3, 0, 7, 3, 9,\n",
       "        5, 0, 1, 7, 9, 8, 5, 6, 1, 8, 6, 0, 0, 9, 1, 1, 6, 1]])"
      ]
     },
     "execution_count": 10,
     "metadata": {},
     "output_type": "execute_result"
    }
   ],
   "source": [
    "%time my_clf.predict(X_test)"
   ]
  },
  {
   "cell_type": "code",
   "execution_count": 11,
   "metadata": {},
   "outputs": [
    {
     "name": "stdout",
     "output_type": "stream",
     "text": [
      "CPU times: user 1min 2s, sys: 694 ms, total: 1min 2s\n",
      "Wall time: 1min 5s\n"
     ]
    },
    {
     "data": {
      "text/plain": [
       "array([[0., 0., 0., ..., 0., 1., 0.],\n",
       "       [0., 0., 1., ..., 0., 0., 0.],\n",
       "       [0., 0., 0., ..., 0., 0., 0.],\n",
       "       ...,\n",
       "       [0., 1., 0., ..., 0., 0., 0.],\n",
       "       [0., 0., 0., ..., 0., 0., 0.],\n",
       "       [0., 1., 0., ..., 0., 0., 0.]])"
      ]
     },
     "execution_count": 11,
     "metadata": {},
     "output_type": "execute_result"
    }
   ],
   "source": [
    "%time clf.predict_proba(X_test)"
   ]
  },
  {
   "cell_type": "code",
   "execution_count": 12,
   "metadata": {},
   "outputs": [
    {
     "name": "stdout",
     "output_type": "stream",
     "text": [
      "CPU times: user 51.8 s, sys: 295 ms, total: 52.1 s\n",
      "Wall time: 52.8 s\n"
     ]
    },
    {
     "data": {
      "text/plain": [
       "array([[0., 0., 0., ..., 0., 1., 0.],\n",
       "       [0., 0., 1., ..., 0., 0., 0.],\n",
       "       [0., 0., 0., ..., 0., 0., 0.],\n",
       "       ...,\n",
       "       [0., 1., 0., ..., 0., 0., 0.],\n",
       "       [0., 0., 0., ..., 0., 0., 0.],\n",
       "       [0., 1., 0., ..., 0., 0., 0.]])"
      ]
     },
     "execution_count": 12,
     "metadata": {},
     "output_type": "execute_result"
    }
   ],
   "source": [
    "%time my_clf.predict_proba(X_test)"
   ]
  },
  {
   "cell_type": "code",
   "execution_count": 13,
   "metadata": {},
   "outputs": [
    {
     "data": {
      "text/plain": [
       "0.9628571428571429"
      ]
     },
     "execution_count": 13,
     "metadata": {},
     "output_type": "execute_result"
    }
   ],
   "source": [
    "clf.score(X_test, y_test)"
   ]
  },
  {
   "cell_type": "code",
   "execution_count": 14,
   "metadata": {},
   "outputs": [
    {
     "data": {
      "text/plain": [
       "0.9628571428571429"
      ]
     },
     "execution_count": 14,
     "metadata": {},
     "output_type": "execute_result"
    }
   ],
   "source": [
    "my_clf.score(X_test, y_test)"
   ]
  },
  {
   "cell_type": "markdown",
   "metadata": {},
   "source": [
    "Задание 5"
   ]
  },
  {
   "cell_type": "code",
   "execution_count": 15,
   "metadata": {},
   "outputs": [],
   "source": [
    "# seaborn — библиотека использующая matplotlib для болле удобного построения графиков\n",
    "# matplotlib — библиотека для построения графиков\n",
    "# train_test_split — разделяет выборку на тестовую и обучеющую\n",
    "# Pipeline (from sklearn.pipeline import Pipeline) —\n",
    "#    дает единый интерфейс для набора преобразований, обучения модели и оценки результата\n",
    "# StandardScaler (from sklearn.preprocessing import StandardScaler)\n",
    "#    — преобразование к стандартному нормальному распределению\n",
    "# ClassifierMixin — базовый класс для классификаторов\n",
    "# NeighborsBase — базовый класс для ближайших соседей\n",
    "# KNeighborsMixin — базовый класс для ближайших соседей с KNN\n",
    "# SupervisedIntegerMixin — класс с методом fit, но осуществляет только \n",
    "#    проверку типов и вызывает _fit из NeighborsBase"
   ]
  }
 ],
 "metadata": {
  "kernelspec": {
   "display_name": "Python 3",
   "language": "python",
   "name": "python3"
  },
  "language_info": {
   "codemirror_mode": {
    "name": "ipython",
    "version": 3
   },
   "file_extension": ".py",
   "mimetype": "text/x-python",
   "name": "python",
   "nbconvert_exporter": "python",
   "pygments_lexer": "ipython3",
   "version": "3.7.1"
  }
 },
 "nbformat": 4,
 "nbformat_minor": 2
}
