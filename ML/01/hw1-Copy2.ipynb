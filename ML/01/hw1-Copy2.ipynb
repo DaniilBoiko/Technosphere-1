{
 "cells": [
  {
   "cell_type": "markdown",
   "metadata": {},
   "source": [
    "**Общая информация**\n",
    "\n",
    "**Срок сдачи:** 20 марта 2019, 06:00 <br\\>\n",
    "**Штраф за опоздание:** -1 балл после 06:00 20 марта, -2 балла после 06:00 27 марта, -3 балла после 06:00 3 апреля\n",
    "\n",
    "При отправлении ДЗ указывайте фамилию в названии файла\n",
    "Присылать ДЗ необходимо в виде ссылки на свой github репозиторий в slack @alkhamush\n",
    "\n",
    "Необходимо в slack скинуть ссылку в личный чат @alkhamush\n",
    "Пример ссылки:\n",
    "https://github.com/stroykova/spheremailru/stroykova_hw1.ipynb \n",
    "\n",
    "\n",
    "Используйте данный Ipython Notebook при оформлении домашнего задания."
   ]
  },
  {
   "cell_type": "markdown",
   "metadata": {},
   "source": [
    "###### Задание 1 (2 баллов)\n",
    "Реализовать KNN в классе MyKNeighborsClassifier (обязательное условие: точность не ниже sklearn реализации)\n",
    "Разберитесь самостоятельно, какая мера расстояния используется в KNeighborsClassifier дефолтно и реализуйте свой алгоритм именно с этой мерой. Самостоятельно разберитесь, как считается score из KNeighborsClassifier и реализуйте аналог в своём классе. Score не должен уступать значению KNN из sklearn\n",
    "\n",
    "###### Задание 2 (2 балла)\n",
    "Добиться скорости работы на fit,  predict и predict_proba сравнимой со sklearn для iris и mnist\n",
    "Для этого используем numpy\n",
    "\n",
    "###### Задание 3 (2 балла)\n",
    "Для iris найдите такой параметр n_neighbors, при котором выдаётся наилучший score. Нарисуйте график зависимости score от n_neighbors\n",
    "\n",
    "###### Задание 4 (3 балла)\n",
    "Добавить algorithm='kd_tree' в реализацию KNN (использовать KDTree из sklearn.neighbors). Значение n_neighbors нужно взять из задания 3. Добиться скорости работы на fit,  predict и predict_proba сравнимой со sklearn для iris и mnist\n",
    "Для этого используем numpy. Score не должен уступать значению KNN из sklearn\n",
    "\n",
    "###### Задание 5 (1 балла)\n",
    "Описать для чего нужны следующие библиотеки/классы/функции (список будет ниже)\n",
    "\n",
    "**Штрафные баллы:**\n",
    "\n",
    "1. Невыполнение PEP8 -1 балл\n",
    "2. Отсутствие фамилии в имени скрипта (скрипт должен называться по аналогии со stroykova_hw1.ipynb) -1 балл\n",
    "3. Все строчки должны быть выполнены. Нужно, чтобы output команды можно было увидеть уже в git'е. В противном случае -1 балл\n",
    "4. При оформлении ДЗ нужно пользоваться данным файлом в качестве шаблона. Не нужно удалять и видоизменять структуру кода и текст. В противном случае -1 балл\n"
   ]
  },
  {
   "cell_type": "code",
   "execution_count": 1,
   "metadata": {},
   "outputs": [],
   "source": [
    "import numpy as np\n",
    "import matplotlib.pyplot as plt\n",
    "\n",
    "import seaborn as sns\n",
    "from sklearn import datasets\n",
    "from sklearn.base import ClassifierMixin\n",
    "from sklearn.datasets import fetch_mldata\n",
    "from sklearn.neighbors.base import NeighborsBase, KNeighborsMixin, SupervisedIntegerMixin \n",
    "from sklearn.model_selection import train_test_split\n",
    "from sklearn.neighbors import KNeighborsClassifier\n",
    "%load_ext pycodestyle_magic"
   ]
  },
  {
   "cell_type": "code",
   "execution_count": 2,
   "metadata": {},
   "outputs": [],
   "source": [
    "#%%pycodestyle\n",
    "\n",
    "from scipy import stats\n",
    "from sklearn.neighbors import KDTree\n",
    "from scipy.spatial import distance_matrix\n",
    "\n",
    "\n",
    "class MyKNeighborsClassifier(NeighborsBase, KNeighborsMixin,\n",
    "                             SupervisedIntegerMixin, ClassifierMixin):\n",
    "\n",
    "    def __init__(self, n_neighbors, algorithm='brute'):\n",
    "        self.n_neighbors = n_neighbors\n",
    "        self.algorithm = algorithm\n",
    "\n",
    "    def fit(self, X, y):\n",
    "        self.X_fit = X\n",
    "        self.y_fit = y\n",
    "\n",
    "        self.classes = np.unique(y)\n",
    "        self.n_of_classes = len(self.classes)\n",
    "\n",
    "        if self.algorithm == 'kd_tree':\n",
    "            self.kd_tree = KDTree(X)\n",
    "\n",
    "        return self\n",
    "\n",
    "    def predict(self, X):\n",
    "        if self.algorithm == 'brute':\n",
    "            return self.predict_brute(X)\n",
    "\n",
    "        if self.algorithm == 'kd_tree':\n",
    "            return self.predict_kd_tree(X)\n",
    "\n",
    "    def predict_kd_tree(self, X):\n",
    "        distances, indicies = self.kd_tree.query(X, k=self.n_neighbors)\n",
    "        return stats.mode(np.asarray(self.y_fit[indicies]), axis=1)[0].T\n",
    "\n",
    "    def predict_brute(self, X):\n",
    "        distances = distance_matrix(self.X_fit, X)\n",
    "        knn_classes = self.y_fit[distances.argsort(axis=0)][:self.n_neighbors]\n",
    "        return stats.mode(knn_classes, axis=0)[0]\n",
    "\n",
    "    def predict_proba(self, X):\n",
    "        if self.algorithm == 'brute':\n",
    "            return self.predict_proba_brute(X)\n",
    "        if self.algorithm == 'kd_tree':\n",
    "            return self.predict_proba_kd_tree(X)\n",
    "\n",
    "    def predict_proba_kd_tree(self, X):\n",
    "        distances, indicies = self.kd_tree.query(X, k=self.n_neighbors)\n",
    "        knn_classes = self.y_fit[indicies]\n",
    "        counts = np.empty((X.shape[0], 0))\n",
    "\n",
    "        for cls in self.classes:\n",
    "            probs = np.mean(knn_classes == cls, axis=1).reshape(X.shape[0], 1)\n",
    "            counts = np.append(counts, probs, axis=1)\n",
    "\n",
    "        return counts\n",
    "\n",
    "    def predict_proba_brute(self, X):\n",
    "        distances = distance_matrix(self.X_fit, X)\n",
    "        knn_classes = self.y_fit[distances.argsort(axis=0)][:self.n_neighbors]\n",
    "        counts = np.empty((X.shape[0], 0))\n",
    "\n",
    "        for cls in self.classes:\n",
    "            probs = np.mean(knn_classes == cls, axis=0).reshape(X.shape[0], 1)\n",
    "            counts = np.append(counts, probs, axis=1)\n",
    "\n",
    "        return counts\n",
    "\n",
    "    \"\"\"\n",
    "    Я конечно написал функцию, но в пямяти не помещается, эх\n",
    "    def distance(self, x, y):\n",
    "        return np.sum(np.abs(y[np.newaxis,:,:]-x[:,np.newaxis,:])**2, axis=-1)\n",
    "    \"\"\"\n",
    "    \n",
    "    def score(self, X, y):\n",
    "        y_pred = self.predict(X)\n",
    "        return np.mean(y_pred == y)"
   ]
  },
  {
   "cell_type": "markdown",
   "metadata": {},
   "source": [
    "**IRIS**"
   ]
  },
  {
   "cell_type": "code",
   "execution_count": 53,
   "metadata": {},
   "outputs": [],
   "source": [
    "iris = datasets.load_iris()"
   ]
  },
  {
   "cell_type": "code",
   "execution_count": 54,
   "metadata": {},
   "outputs": [],
   "source": [
    "X_train, X_test, y_train, y_test = train_test_split(iris.data, iris.target, test_size=0.1, stratify=iris.target)"
   ]
  },
  {
   "cell_type": "code",
   "execution_count": 55,
   "metadata": {},
   "outputs": [],
   "source": [
    "clf = KNeighborsClassifier(n_neighbors=2)\n",
    "my_clf = MyKNeighborsClassifier(n_neighbors=2)"
   ]
  },
  {
   "cell_type": "code",
   "execution_count": 56,
   "metadata": {},
   "outputs": [
    {
     "name": "stdout",
     "output_type": "stream",
     "text": [
      "CPU times: user 1.12 ms, sys: 1.69 ms, total: 2.81 ms\n",
      "Wall time: 2.51 ms\n"
     ]
    },
    {
     "data": {
      "text/plain": [
       "KNeighborsClassifier(algorithm='auto', leaf_size=30, metric='minkowski',\n",
       "           metric_params=None, n_jobs=None, n_neighbors=2, p=2,\n",
       "           weights='uniform')"
      ]
     },
     "execution_count": 56,
     "metadata": {},
     "output_type": "execute_result"
    }
   ],
   "source": [
    "%time clf.fit(X_train, y_train)"
   ]
  },
  {
   "cell_type": "code",
   "execution_count": 57,
   "metadata": {},
   "outputs": [
    {
     "name": "stdout",
     "output_type": "stream",
     "text": [
      "CPU times: user 182 µs, sys: 120 µs, total: 302 µs\n",
      "Wall time: 266 µs\n"
     ]
    },
    {
     "data": {
      "text/plain": [
       "MyKNeighborsClassifier(algorithm='brute', n_neighbors=2)"
      ]
     },
     "execution_count": 57,
     "metadata": {},
     "output_type": "execute_result"
    }
   ],
   "source": [
    "%time my_clf.fit(X_train, y_train)"
   ]
  },
  {
   "cell_type": "code",
   "execution_count": 58,
   "metadata": {},
   "outputs": [
    {
     "name": "stdout",
     "output_type": "stream",
     "text": [
      "CPU times: user 3 ms, sys: 3.71 ms, total: 6.7 ms\n",
      "Wall time: 6.73 ms\n"
     ]
    },
    {
     "data": {
      "text/plain": [
       "array([2, 0, 1, 2, 1, 2, 0, 1, 0, 2, 0, 0, 1, 1, 1])"
      ]
     },
     "execution_count": 58,
     "metadata": {},
     "output_type": "execute_result"
    }
   ],
   "source": [
    "%time clf.predict(X_test)"
   ]
  },
  {
   "cell_type": "code",
   "execution_count": 59,
   "metadata": {},
   "outputs": [
    {
     "name": "stdout",
     "output_type": "stream",
     "text": [
      "CPU times: user 2.23 ms, sys: 2.19 ms, total: 4.43 ms\n",
      "Wall time: 3.38 ms\n"
     ]
    },
    {
     "data": {
      "text/plain": [
       "array([[2, 0, 1, 2, 1, 2, 0, 1, 0, 2, 0, 0, 1, 1, 1]])"
      ]
     },
     "execution_count": 59,
     "metadata": {},
     "output_type": "execute_result"
    }
   ],
   "source": [
    "%time my_clf.predict(X_test)"
   ]
  },
  {
   "cell_type": "code",
   "execution_count": 60,
   "metadata": {},
   "outputs": [
    {
     "name": "stdout",
     "output_type": "stream",
     "text": [
      "CPU times: user 1.3 ms, sys: 1.06 ms, total: 2.36 ms\n",
      "Wall time: 2.2 ms\n"
     ]
    },
    {
     "data": {
      "text/plain": [
       "array([[0., 0., 1.],\n",
       "       [1., 0., 0.],\n",
       "       [0., 1., 0.],\n",
       "       [0., 0., 1.],\n",
       "       [0., 1., 0.],\n",
       "       [0., 0., 1.],\n",
       "       [1., 0., 0.],\n",
       "       [0., 1., 0.],\n",
       "       [1., 0., 0.],\n",
       "       [0., 0., 1.],\n",
       "       [1., 0., 0.],\n",
       "       [1., 0., 0.],\n",
       "       [0., 1., 0.],\n",
       "       [0., 1., 0.],\n",
       "       [0., 1., 0.]])"
      ]
     },
     "execution_count": 60,
     "metadata": {},
     "output_type": "execute_result"
    }
   ],
   "source": [
    "%time clf.predict_proba(X_test)"
   ]
  },
  {
   "cell_type": "code",
   "execution_count": 61,
   "metadata": {},
   "outputs": [
    {
     "name": "stdout",
     "output_type": "stream",
     "text": [
      "CPU times: user 1.02 ms, sys: 1.05 ms, total: 2.07 ms\n",
      "Wall time: 1.65 ms\n"
     ]
    },
    {
     "data": {
      "text/plain": [
       "array([[0., 0., 1.],\n",
       "       [1., 0., 0.],\n",
       "       [0., 1., 0.],\n",
       "       [0., 0., 1.],\n",
       "       [0., 1., 0.],\n",
       "       [0., 0., 1.],\n",
       "       [1., 0., 0.],\n",
       "       [0., 1., 0.],\n",
       "       [1., 0., 0.],\n",
       "       [0., 0., 1.],\n",
       "       [1., 0., 0.],\n",
       "       [1., 0., 0.],\n",
       "       [0., 1., 0.],\n",
       "       [0., 1., 0.],\n",
       "       [0., 1., 0.]])"
      ]
     },
     "execution_count": 61,
     "metadata": {},
     "output_type": "execute_result"
    }
   ],
   "source": [
    "%time my_clf.predict_proba(X_test)"
   ]
  },
  {
   "cell_type": "code",
   "execution_count": 62,
   "metadata": {},
   "outputs": [
    {
     "data": {
      "text/plain": [
       "0.9333333333333333"
      ]
     },
     "execution_count": 62,
     "metadata": {},
     "output_type": "execute_result"
    }
   ],
   "source": [
    "clf.score(X_test, y_test)"
   ]
  },
  {
   "cell_type": "code",
   "execution_count": 63,
   "metadata": {},
   "outputs": [
    {
     "data": {
      "text/plain": [
       "0.9333333333333333"
      ]
     },
     "execution_count": 63,
     "metadata": {},
     "output_type": "execute_result"
    }
   ],
   "source": [
    "my_clf.score(X_test, y_test)"
   ]
  },
  {
   "cell_type": "markdown",
   "metadata": {},
   "source": [
    "Задание 3"
   ]
  },
  {
   "cell_type": "code",
   "execution_count": 64,
   "metadata": {},
   "outputs": [],
   "source": [
    "max_neighbors = 150\n",
    "n_tests = 500\n",
    "\n",
    "n_neighbors = np.arange(1,max_neighbors)\n",
    "score = np.zeros(max_neighbors-1)\n",
    "\n",
    "for n in n_neighbors:\n",
    "    scores = []\n",
    "    for test in range(n_tests):\n",
    "        X_train, X_test, y_train, y_test = train_test_split(iris.data, iris.target, test_size=0.1, stratify=iris.target)\n",
    "        my_clf = MyKNeighborsClassifier(n_neighbors=n,algorithm='brute')\n",
    "        my_clf.fit(X_train, y_train)\n",
    "        scores.append(my_clf.score(X_test, y_test))\n",
    "    score[n-1] = np.mean(scores)"
   ]
  },
  {
   "cell_type": "code",
   "execution_count": 65,
   "metadata": {},
   "outputs": [
    {
     "data": {
      "text/plain": [
       "Text(0.5, 1.0, 'Finding the best number of neighbors')"
      ]
     },
     "execution_count": 65,
     "metadata": {},
     "output_type": "execute_result"
    },
    {
     "data": {
      "image/png": "[encoded data removed]",
      "text/plain": [
       "<Figure size 432x288 with 1 Axes>"
      ]
     },
     "metadata": {
      "needs_background": "light"
     },
     "output_type": "display_data"
    }
   ],
   "source": [
    "fig = plt.figure()\n",
    "axes = fig.add_subplot(111)\n",
    "axes.plot(n_neighbors,score)\n",
    "\n",
    "xpos = score.argmax()\n",
    "xmax = n_neighbors[xpos]\n",
    "ymax = score.max()\n",
    "\n",
    "axes.annotate('local max', xy=(xmax, ymax), xytext=(xmax-6, ymax-0.1),\n",
    "            arrowprops=dict(arrowstyle=\"->\",connectionstyle=\"angle,angleA=0,angleB=90\")\n",
    "            )\n",
    "axes.set_ylim(0.3,1)\n",
    "axes.set_ylabel('Average score ('+str(n_tests)+' tests)')\n",
    "axes.set_xlabel('Number of nearest neighbors')\n",
    "axes.set_title('Finding the best number of neighbors')"
   ]
  },
  {
   "cell_type": "code",
   "execution_count": 66,
   "metadata": {},
   "outputs": [
    {
     "name": "stdout",
     "output_type": "stream",
     "text": [
      "The best number of neighbors is 18\n"
     ]
    }
   ],
   "source": [
    "print('The best number of neighbors is '+str(xmax))"
   ]
  },
  {
   "cell_type": "markdown",
   "metadata": {},
   "source": [
    "**MNIST**"
   ]
  },
  {
   "cell_type": "code",
   "execution_count": 13,
   "metadata": {},
   "outputs": [],
   "source": [
    "from sklearn.datasets import fetch_openml\n",
    "\n",
    "mnist = fetch_openml('mnist_784')\n",
    "X_train, X_test, y_train, y_test = train_test_split(mnist.data, mnist.target, test_size=0.01, stratify=mnist.target)"
   ]
  },
  {
   "cell_type": "code",
   "execution_count": 44,
   "metadata": {},
   "outputs": [],
   "source": [
    "clf = KNeighborsClassifier(n_neighbors=2)\n",
    "my_clf = MyKNeighborsClassifier(n_neighbors=2)"
   ]
  },
  {
   "cell_type": "code",
   "execution_count": 45,
   "metadata": {},
   "outputs": [
    {
     "name": "stdout",
     "output_type": "stream",
     "text": [
      "CPU times: user 27.5 s, sys: 452 ms, total: 28 s\n",
      "Wall time: 28.8 s\n"
     ]
    },
    {
     "data": {
      "text/plain": [
       "KNeighborsClassifier(algorithm='auto', leaf_size=30, metric='minkowski',\n",
       "           metric_params=None, n_jobs=None, n_neighbors=2, p=2,\n",
       "           weights='uniform')"
      ]
     },
     "execution_count": 45,
     "metadata": {},
     "output_type": "execute_result"
    }
   ],
   "source": [
    "%time clf.fit(X_train, y_train)"
   ]
  },
  {
   "cell_type": "code",
   "execution_count": 46,
   "metadata": {},
   "outputs": [
    {
     "name": "stdout",
     "output_type": "stream",
     "text": [
      "CPU times: user 2.28 ms, sys: 1.1 ms, total: 3.37 ms\n",
      "Wall time: 2.32 ms\n"
     ]
    },
    {
     "data": {
      "text/plain": [
       "MyKNeighborsClassifier(algorithm='brute', n_neighbors=2)"
      ]
     },
     "execution_count": 46,
     "metadata": {},
     "output_type": "execute_result"
    }
   ],
   "source": [
    "%time my_clf.fit(X_train, y_train)"
   ]
  },
  {
   "cell_type": "code",
   "execution_count": 47,
   "metadata": {},
   "outputs": [
    {
     "name": "stdout",
     "output_type": "stream",
     "text": [
      "CPU times: user 58.4 s, sys: 213 ms, total: 58.6 s\n",
      "Wall time: 59.3 s\n"
     ]
    },
    {
     "data": {
      "text/plain": [
       "array([1, 7, 4, 0, 4, 9, 4, 3, 8, 0, 4, 1, 1, 9, 9, 8, 4, 6, 1, 8, 9, 1,\n",
       "       2, 7, 3, 3, 8, 2, 6, 9, 5, 6, 6, 7, 8, 2, 9, 9, 8, 8, 8, 0, 5, 2,\n",
       "       6, 1, 4, 6, 1, 9, 3, 0, 6, 2, 8, 4, 4, 3, 5, 1, 0, 0, 7, 8, 4, 3,\n",
       "       4, 1, 2, 0, 5, 3, 7, 9, 3, 0, 7, 8, 3, 6, 1, 7, 1, 1, 8, 2, 0, 2,\n",
       "       4, 1, 8, 3, 1, 1, 7, 1, 8, 4, 5, 4, 5, 3, 0, 5, 3, 1, 5, 7, 9, 2,\n",
       "       7, 5, 0, 5, 1, 1, 6, 6, 1, 8, 9, 0, 9, 0, 6, 2, 4, 3, 6, 0, 5, 2,\n",
       "       4, 3, 1, 8, 0, 1, 7, 3, 5, 9, 2, 4, 7, 4, 0, 1, 3, 6, 4, 0, 3, 5,\n",
       "       6, 5, 5, 0, 3, 7, 9, 2, 5, 1, 0, 2, 4, 9, 7, 4, 0, 3, 7, 3, 0, 5,\n",
       "       9, 3, 8, 9, 8, 1, 3, 9, 4, 8, 3, 2, 4, 1, 8, 8, 9, 0, 0, 5, 5, 7,\n",
       "       7, 0, 6, 5, 5, 5, 7, 2, 7, 9, 1, 2, 7, 2, 2, 5, 3, 5, 6, 3, 4, 8,\n",
       "       1, 3, 8, 3, 1, 0, 0, 9, 7, 1, 6, 0, 6, 4, 3, 2, 6, 5, 9, 1, 7, 6,\n",
       "       7, 6, 0, 1, 6, 0, 7, 3, 7, 2, 4, 4, 4, 5, 3, 6, 3, 6, 6, 0, 9, 1,\n",
       "       7, 7, 7, 7, 1, 5, 2, 1, 2, 2, 9, 0, 0, 7, 0, 0, 3, 8, 7, 7, 2, 3,\n",
       "       0, 0, 7, 3, 4, 5, 8, 3, 4, 5, 0, 0, 0, 6, 2, 6, 5, 7, 7, 0, 9, 3,\n",
       "       8, 6, 9, 6, 3, 7, 3, 8, 3, 9, 0, 8, 0, 2, 6, 9, 8, 7, 2, 3, 3, 2,\n",
       "       9, 0, 2, 3, 2, 7, 6, 8, 3, 2, 2, 7, 0, 5, 5, 4, 6, 3, 9, 4, 1, 5,\n",
       "       0, 6, 8, 7, 3, 9, 2, 8, 6, 8, 5, 5, 8, 0, 0, 2, 7, 8, 9, 8, 7, 6,\n",
       "       4, 1, 0, 4, 8, 5, 0, 9, 8, 9, 5, 5, 3, 0, 8, 3, 5, 7, 4, 0, 6, 9,\n",
       "       1, 2, 6, 4, 2, 1, 1, 3, 5, 1, 5, 2, 0, 6, 8, 1, 5, 0, 3, 3, 7, 9,\n",
       "       3, 0, 5, 4, 1, 8, 3, 0, 6, 8, 3, 1, 8, 1, 9, 8, 4, 2, 6, 4, 5, 4,\n",
       "       6, 2, 7, 6, 2, 5, 0, 6, 4, 6, 4, 6, 4, 1, 1, 1, 8, 8, 8, 8, 3, 4,\n",
       "       9, 1, 4, 3, 8, 0, 9, 0, 9, 5, 7, 9, 1, 2, 3, 1, 1, 3, 1, 4, 9, 4,\n",
       "       7, 7, 6, 8, 7, 0, 6, 7, 2, 4, 0, 6, 8, 2, 1, 1, 7, 4, 6, 9, 8, 9,\n",
       "       3, 3, 9, 9, 6, 9, 7, 1, 2, 5, 1, 1, 9, 2, 5, 3, 2, 4, 7, 3, 8, 1,\n",
       "       0, 1, 6, 2, 2, 0, 6, 3, 2, 3, 4, 2, 1, 6, 6, 2, 1, 4, 7, 2, 2, 3,\n",
       "       7, 9, 3, 5, 6, 8, 7, 0, 2, 7, 4, 9, 9, 1, 6, 2, 9, 3, 5, 0, 1, 8,\n",
       "       5, 9, 1, 3, 2, 5, 0, 7, 4, 6, 4, 5, 3, 0, 7, 9, 1, 0, 1, 7, 1, 8,\n",
       "       6, 5, 0, 2, 8, 7, 9, 7, 9, 8, 7, 2, 3, 4, 8, 7, 3, 2, 2, 9, 6, 0,\n",
       "       0, 7, 1, 1, 4, 6, 6, 8, 2, 5, 4, 9, 5, 0, 3, 7, 4, 7, 7, 5, 2, 9,\n",
       "       1, 6, 2, 9, 4, 4, 7, 4, 7, 2, 4, 8, 4, 2, 9, 9, 7, 4, 4, 4, 4, 6,\n",
       "       6, 4, 1, 5, 2, 5, 1, 2, 6, 1, 6, 8, 3, 2, 0, 5, 9, 4, 5, 7, 6, 7,\n",
       "       1, 0, 9, 2, 8, 6, 7, 1, 9, 3, 9, 1, 7, 8, 1, 2, 1, 7])"
      ]
     },
     "execution_count": 47,
     "metadata": {},
     "output_type": "execute_result"
    }
   ],
   "source": [
    "%time clf.predict(X_test)"
   ]
  },
  {
   "cell_type": "code",
   "execution_count": 48,
   "metadata": {},
   "outputs": [
    {
     "name": "stdout",
     "output_type": "stream",
     "text": [
      "CPU times: user 7min 33s, sys: 3min 59s, total: 11min 32s\n",
      "Wall time: 6min 32s\n"
     ]
    },
    {
     "data": {
      "text/plain": [
       "array([[1, 7, 4, 0, 4, 9, 4, 3, 8, 0, 4, 1, 1, 9, 9, 8, 4, 6, 1, 8, 9, 1,\n",
       "        2, 7, 3, 3, 8, 2, 6, 9, 5, 6, 6, 7, 8, 2, 9, 9, 8, 8, 8, 0, 5, 2,\n",
       "        6, 1, 4, 6, 1, 9, 3, 0, 6, 2, 8, 4, 4, 3, 5, 1, 0, 0, 7, 8, 4, 3,\n",
       "        4, 1, 2, 0, 5, 3, 7, 9, 3, 0, 7, 8, 3, 6, 1, 7, 1, 1, 8, 2, 0, 2,\n",
       "        4, 1, 8, 3, 1, 1, 7, 1, 8, 4, 5, 4, 5, 3, 0, 5, 3, 1, 5, 7, 9, 2,\n",
       "        7, 5, 0, 5, 1, 1, 6, 6, 1, 8, 9, 0, 9, 0, 6, 2, 4, 3, 6, 0, 5, 2,\n",
       "        4, 3, 1, 8, 0, 1, 7, 3, 5, 9, 2, 4, 7, 4, 0, 1, 3, 6, 4, 0, 3, 5,\n",
       "        6, 5, 5, 0, 3, 7, 9, 2, 5, 1, 0, 2, 4, 9, 7, 4, 0, 3, 7, 3, 0, 5,\n",
       "        9, 3, 8, 9, 8, 1, 3, 9, 4, 8, 3, 2, 4, 1, 8, 8, 9, 0, 0, 5, 5, 7,\n",
       "        7, 0, 6, 5, 5, 5, 7, 2, 7, 9, 1, 2, 7, 2, 2, 5, 3, 5, 6, 3, 4, 8,\n",
       "        1, 3, 8, 3, 1, 0, 0, 9, 7, 1, 6, 0, 6, 4, 3, 2, 6, 5, 9, 1, 7, 6,\n",
       "        7, 6, 0, 1, 6, 0, 7, 3, 7, 2, 4, 4, 4, 5, 3, 6, 3, 6, 6, 0, 9, 1,\n",
       "        7, 7, 7, 7, 1, 5, 2, 1, 2, 2, 9, 0, 0, 7, 0, 0, 3, 8, 7, 7, 2, 3,\n",
       "        0, 0, 7, 3, 4, 5, 8, 3, 4, 5, 0, 0, 0, 6, 2, 6, 5, 7, 7, 0, 9, 3,\n",
       "        8, 6, 9, 6, 3, 7, 3, 8, 3, 9, 0, 8, 0, 2, 6, 9, 8, 7, 2, 3, 3, 2,\n",
       "        9, 0, 2, 3, 2, 7, 6, 8, 3, 2, 2, 7, 0, 5, 5, 4, 6, 3, 9, 4, 1, 5,\n",
       "        0, 6, 8, 7, 3, 9, 2, 8, 6, 8, 5, 5, 8, 0, 0, 2, 7, 8, 9, 8, 7, 6,\n",
       "        4, 1, 0, 4, 8, 5, 0, 9, 8, 9, 5, 5, 3, 0, 8, 3, 5, 7, 4, 0, 6, 9,\n",
       "        1, 2, 6, 4, 2, 1, 1, 3, 5, 1, 5, 2, 0, 6, 8, 1, 5, 0, 3, 3, 7, 9,\n",
       "        3, 0, 5, 4, 1, 8, 3, 0, 6, 8, 3, 1, 8, 1, 9, 8, 4, 2, 6, 4, 5, 4,\n",
       "        6, 2, 7, 6, 2, 5, 0, 6, 4, 6, 4, 6, 4, 1, 1, 1, 8, 8, 8, 8, 3, 4,\n",
       "        9, 1, 4, 3, 8, 0, 9, 0, 9, 5, 7, 9, 1, 2, 3, 1, 1, 3, 1, 4, 9, 4,\n",
       "        7, 7, 6, 8, 7, 0, 6, 7, 2, 4, 0, 6, 8, 2, 1, 1, 7, 4, 6, 9, 8, 9,\n",
       "        3, 3, 9, 9, 6, 9, 7, 1, 2, 5, 1, 1, 9, 2, 5, 3, 2, 4, 7, 3, 8, 1,\n",
       "        0, 1, 6, 2, 2, 0, 6, 3, 2, 3, 4, 2, 1, 6, 6, 2, 1, 4, 7, 2, 2, 3,\n",
       "        7, 9, 3, 5, 6, 8, 7, 0, 2, 7, 4, 9, 9, 1, 6, 2, 9, 3, 5, 0, 1, 8,\n",
       "        5, 9, 1, 3, 2, 5, 0, 7, 4, 6, 4, 5, 3, 0, 7, 9, 1, 0, 1, 7, 1, 8,\n",
       "        6, 5, 0, 2, 8, 7, 9, 7, 9, 8, 7, 2, 3, 4, 8, 7, 3, 2, 2, 9, 6, 0,\n",
       "        0, 7, 1, 1, 4, 6, 6, 8, 2, 5, 4, 9, 5, 0, 3, 7, 4, 7, 7, 5, 2, 9,\n",
       "        1, 6, 2, 9, 4, 4, 7, 4, 7, 2, 4, 8, 4, 2, 9, 9, 7, 4, 4, 4, 4, 6,\n",
       "        6, 4, 1, 5, 2, 5, 1, 2, 6, 1, 6, 8, 3, 2, 0, 5, 9, 4, 5, 7, 6, 7,\n",
       "        1, 0, 9, 2, 8, 6, 7, 1, 9, 3, 9, 1, 7, 8, 1, 2, 1, 7]])"
      ]
     },
     "execution_count": 48,
     "metadata": {},
     "output_type": "execute_result"
    }
   ],
   "source": [
    "%time my_clf.predict(X_test)"
   ]
  },
  {
   "cell_type": "code",
   "execution_count": 49,
   "metadata": {},
   "outputs": [
    {
     "name": "stdout",
     "output_type": "stream",
     "text": [
      "CPU times: user 58.5 s, sys: 237 ms, total: 58.7 s\n",
      "Wall time: 59.4 s\n"
     ]
    },
    {
     "data": {
      "text/plain": [
       "array([[0., 1., 0., ..., 0., 0., 0.],\n",
       "       [0., 0., 0., ..., 1., 0., 0.],\n",
       "       [0., 0., 0., ..., 0., 0., 0.],\n",
       "       ...,\n",
       "       [0., 0., 1., ..., 0., 0., 0.],\n",
       "       [0., 1., 0., ..., 0., 0., 0.],\n",
       "       [0., 0., 0., ..., 1., 0., 0.]])"
      ]
     },
     "execution_count": 49,
     "metadata": {},
     "output_type": "execute_result"
    }
   ],
   "source": [
    "%time clf.predict_proba(X_test)"
   ]
  },
  {
   "cell_type": "code",
   "execution_count": 50,
   "metadata": {},
   "outputs": [
    {
     "name": "stdout",
     "output_type": "stream",
     "text": [
      "CPU times: user 7min 31s, sys: 3min 55s, total: 11min 26s\n",
      "Wall time: 6min 25s\n"
     ]
    },
    {
     "data": {
      "text/plain": [
       "array([[0., 1., 0., ..., 0., 0., 0.],\n",
       "       [0., 0., 0., ..., 1., 0., 0.],\n",
       "       [0., 0., 0., ..., 0., 0., 0.],\n",
       "       ...,\n",
       "       [0., 0., 1., ..., 0., 0., 0.],\n",
       "       [0., 1., 0., ..., 0., 0., 0.],\n",
       "       [0., 0., 0., ..., 1., 0., 0.]])"
      ]
     },
     "execution_count": 50,
     "metadata": {},
     "output_type": "execute_result"
    }
   ],
   "source": [
    "%time my_clf.predict_proba(X_test)"
   ]
  },
  {
   "cell_type": "code",
   "execution_count": 51,
   "metadata": {},
   "outputs": [
    {
     "data": {
      "text/plain": [
       "0.9714285714285714"
      ]
     },
     "execution_count": 51,
     "metadata": {},
     "output_type": "execute_result"
    }
   ],
   "source": [
    "clf.score(X_test, y_test)"
   ]
  },
  {
   "cell_type": "code",
   "execution_count": 52,
   "metadata": {},
   "outputs": [
    {
     "data": {
      "text/plain": [
       "0.9714285714285714"
      ]
     },
     "execution_count": 52,
     "metadata": {},
     "output_type": "execute_result"
    }
   ],
   "source": [
    "my_clf.score(X_test, y_test)"
   ]
  },
  {
   "cell_type": "markdown",
   "metadata": {},
   "source": [
    "Задание 4"
   ]
  },
  {
   "cell_type": "code",
   "execution_count": 14,
   "metadata": {},
   "outputs": [],
   "source": [
    "clf = KNeighborsClassifier(n_neighbors=2, algorithm='kd_tree')\n",
    "my_clf = MyKNeighborsClassifier(n_neighbors=2, algorithm='kd_tree')"
   ]
  },
  {
   "cell_type": "code",
   "execution_count": 15,
   "metadata": {},
   "outputs": [],
   "source": [
    "X_train, X_test, y_train, y_test = train_test_split(mnist.data, mnist.target, test_size=0.01, stratify=mnist.target)"
   ]
  },
  {
   "cell_type": "code",
   "execution_count": 35,
   "metadata": {},
   "outputs": [],
   "source": [
    "X_train=X_train.astype(float)\n",
    "X_test=X_test.astype(float)\n",
    "y_train=y_train.astype(int)\n",
    "y_test=y_test.astype(int)"
   ]
  },
  {
   "cell_type": "code",
   "execution_count": 36,
   "metadata": {},
   "outputs": [
    {
     "name": "stdout",
     "output_type": "stream",
     "text": [
      "CPU times: user 23.8 s, sys: 224 ms, total: 24.1 s\n",
      "Wall time: 24.5 s\n"
     ]
    },
    {
     "data": {
      "text/plain": [
       "KNeighborsClassifier(algorithm='kd_tree', leaf_size=30, metric='minkowski',\n",
       "           metric_params=None, n_jobs=None, n_neighbors=2, p=2,\n",
       "           weights='uniform')"
      ]
     },
     "execution_count": 36,
     "metadata": {},
     "output_type": "execute_result"
    }
   ],
   "source": [
    "%time clf.fit(X_train, y_train)"
   ]
  },
  {
   "cell_type": "code",
   "execution_count": 37,
   "metadata": {},
   "outputs": [
    {
     "name": "stdout",
     "output_type": "stream",
     "text": [
      "CPU times: user 26.6 s, sys: 421 ms, total: 27 s\n",
      "Wall time: 28.2 s\n"
     ]
    },
    {
     "data": {
      "text/plain": [
       "MyKNeighborsClassifier(algorithm='kd_tree', n_neighbors=2)"
      ]
     },
     "execution_count": 37,
     "metadata": {},
     "output_type": "execute_result"
    }
   ],
   "source": [
    "%time my_clf.fit(X_train, y_train)"
   ]
  },
  {
   "cell_type": "code",
   "execution_count": 38,
   "metadata": {},
   "outputs": [
    {
     "name": "stdout",
     "output_type": "stream",
     "text": [
      "CPU times: user 58.7 s, sys: 247 ms, total: 59 s\n",
      "Wall time: 59.5 s\n"
     ]
    },
    {
     "data": {
      "text/plain": [
       "array([1, 7, 4, 0, 4, 9, 4, 3, 8, 0, 4, 1, 1, 9, 9, 8, 4, 6, 1, 8, 9, 1,\n",
       "       2, 7, 3, 3, 8, 2, 6, 9, 5, 6, 6, 7, 8, 2, 9, 9, 8, 8, 8, 0, 5, 2,\n",
       "       6, 1, 4, 6, 1, 9, 3, 0, 6, 2, 8, 4, 4, 3, 5, 1, 0, 0, 7, 8, 4, 3,\n",
       "       4, 1, 2, 0, 5, 3, 7, 9, 3, 0, 7, 8, 3, 6, 1, 7, 1, 1, 8, 2, 0, 2,\n",
       "       4, 1, 8, 3, 1, 1, 7, 1, 8, 4, 5, 4, 5, 3, 0, 5, 3, 1, 5, 7, 9, 2,\n",
       "       7, 5, 0, 5, 1, 1, 6, 6, 1, 8, 9, 0, 9, 0, 6, 2, 4, 3, 6, 0, 5, 2,\n",
       "       4, 3, 1, 8, 0, 1, 7, 3, 5, 9, 2, 4, 7, 4, 0, 1, 3, 6, 4, 0, 3, 5,\n",
       "       6, 5, 5, 0, 3, 7, 9, 2, 5, 1, 0, 2, 4, 9, 7, 4, 0, 3, 7, 3, 0, 5,\n",
       "       9, 3, 8, 9, 8, 1, 3, 9, 4, 8, 3, 2, 4, 1, 8, 8, 9, 0, 0, 5, 5, 7,\n",
       "       7, 0, 6, 5, 5, 5, 7, 2, 7, 9, 1, 2, 7, 2, 2, 5, 3, 5, 6, 3, 4, 8,\n",
       "       1, 3, 8, 3, 1, 0, 0, 9, 7, 1, 6, 0, 6, 4, 3, 2, 6, 5, 9, 1, 7, 6,\n",
       "       7, 6, 0, 1, 6, 0, 7, 3, 7, 2, 4, 4, 4, 5, 3, 6, 3, 6, 6, 0, 9, 1,\n",
       "       7, 7, 7, 7, 1, 5, 2, 1, 2, 2, 9, 0, 0, 7, 0, 0, 3, 8, 7, 7, 2, 3,\n",
       "       0, 0, 7, 3, 4, 5, 8, 3, 4, 5, 0, 0, 0, 6, 2, 6, 5, 7, 7, 0, 9, 3,\n",
       "       8, 6, 9, 6, 3, 7, 3, 8, 3, 9, 0, 8, 0, 2, 6, 9, 8, 7, 2, 3, 3, 2,\n",
       "       9, 0, 2, 3, 2, 7, 6, 8, 3, 2, 2, 7, 0, 5, 5, 4, 6, 3, 9, 4, 1, 5,\n",
       "       0, 6, 8, 7, 3, 9, 2, 8, 6, 8, 5, 5, 8, 0, 0, 2, 7, 8, 9, 8, 7, 6,\n",
       "       4, 1, 0, 4, 8, 5, 0, 9, 8, 9, 5, 5, 3, 0, 8, 3, 5, 7, 4, 0, 6, 9,\n",
       "       1, 2, 6, 4, 2, 1, 1, 3, 5, 1, 5, 2, 0, 6, 8, 1, 5, 0, 3, 3, 7, 9,\n",
       "       3, 0, 5, 4, 1, 8, 3, 0, 6, 8, 3, 1, 8, 1, 9, 8, 4, 2, 6, 4, 5, 4,\n",
       "       6, 2, 7, 6, 2, 5, 0, 6, 4, 6, 4, 6, 4, 1, 1, 1, 8, 8, 8, 8, 3, 4,\n",
       "       9, 1, 4, 3, 8, 0, 9, 0, 9, 5, 7, 9, 1, 2, 3, 1, 1, 3, 1, 4, 9, 4,\n",
       "       7, 7, 6, 8, 7, 0, 6, 7, 2, 4, 0, 6, 8, 2, 1, 1, 7, 4, 6, 9, 8, 9,\n",
       "       3, 3, 9, 9, 6, 9, 7, 1, 2, 5, 1, 1, 9, 2, 5, 3, 2, 4, 7, 3, 8, 1,\n",
       "       0, 1, 6, 2, 2, 0, 6, 3, 2, 3, 4, 2, 1, 6, 6, 2, 1, 4, 7, 2, 2, 3,\n",
       "       7, 9, 3, 5, 6, 8, 7, 0, 2, 7, 4, 9, 9, 1, 6, 2, 9, 3, 5, 0, 1, 8,\n",
       "       5, 9, 1, 3, 2, 5, 0, 7, 4, 6, 4, 5, 3, 0, 7, 9, 1, 0, 1, 7, 1, 8,\n",
       "       6, 5, 0, 2, 8, 7, 9, 7, 9, 8, 7, 2, 3, 4, 8, 7, 3, 2, 2, 9, 6, 0,\n",
       "       0, 7, 1, 1, 4, 6, 6, 8, 2, 5, 4, 9, 5, 0, 3, 7, 4, 7, 7, 5, 2, 9,\n",
       "       1, 6, 2, 9, 4, 4, 7, 4, 7, 2, 4, 8, 4, 2, 9, 9, 7, 4, 4, 4, 4, 6,\n",
       "       6, 4, 1, 5, 2, 5, 1, 2, 6, 1, 6, 8, 3, 2, 0, 5, 9, 4, 5, 7, 6, 7,\n",
       "       1, 0, 9, 2, 8, 6, 7, 1, 9, 3, 9, 1, 7, 8, 1, 2, 1, 7])"
      ]
     },
     "execution_count": 38,
     "metadata": {},
     "output_type": "execute_result"
    }
   ],
   "source": [
    "%time clf.predict(X_test)"
   ]
  },
  {
   "cell_type": "code",
   "execution_count": 39,
   "metadata": {},
   "outputs": [
    {
     "name": "stdout",
     "output_type": "stream",
     "text": [
      "CPU times: user 51 s, sys: 200 ms, total: 51.2 s\n",
      "Wall time: 51.6 s\n"
     ]
    },
    {
     "data": {
      "text/plain": [
       "array([[1, 7, 4, 0, 4, 9, 4, 3, 8, 0, 4, 1, 1, 9, 9, 8, 4, 6, 1, 8, 9, 1,\n",
       "        2, 7, 3, 3, 8, 2, 6, 9, 5, 6, 6, 7, 8, 2, 9, 9, 8, 8, 8, 0, 5, 2,\n",
       "        6, 1, 4, 6, 1, 9, 3, 0, 6, 2, 8, 4, 4, 3, 5, 1, 0, 0, 7, 8, 4, 3,\n",
       "        4, 1, 2, 0, 5, 3, 7, 9, 3, 0, 7, 8, 3, 6, 1, 7, 1, 1, 8, 2, 0, 2,\n",
       "        4, 1, 8, 3, 1, 1, 7, 1, 8, 4, 5, 4, 5, 3, 0, 5, 3, 1, 5, 7, 9, 2,\n",
       "        7, 5, 0, 5, 1, 1, 6, 6, 1, 8, 9, 0, 9, 0, 6, 2, 4, 3, 6, 0, 5, 2,\n",
       "        4, 3, 1, 8, 0, 1, 7, 3, 5, 9, 2, 4, 7, 4, 0, 1, 3, 6, 4, 0, 3, 5,\n",
       "        6, 5, 5, 0, 3, 7, 9, 2, 5, 1, 0, 2, 4, 9, 7, 4, 0, 3, 7, 3, 0, 5,\n",
       "        9, 3, 8, 9, 8, 1, 3, 9, 4, 8, 3, 2, 4, 1, 8, 8, 9, 0, 0, 5, 5, 7,\n",
       "        7, 0, 6, 5, 5, 5, 7, 2, 7, 9, 1, 2, 7, 2, 2, 5, 3, 5, 6, 3, 4, 8,\n",
       "        1, 3, 8, 3, 1, 0, 0, 9, 7, 1, 6, 0, 6, 4, 3, 2, 6, 5, 9, 1, 7, 6,\n",
       "        7, 6, 0, 1, 6, 0, 7, 3, 7, 2, 4, 4, 4, 5, 3, 6, 3, 6, 6, 0, 9, 1,\n",
       "        7, 7, 7, 7, 1, 5, 2, 1, 2, 2, 9, 0, 0, 7, 0, 0, 3, 8, 7, 7, 2, 3,\n",
       "        0, 0, 7, 3, 4, 5, 8, 3, 4, 5, 0, 0, 0, 6, 2, 6, 5, 7, 7, 0, 9, 3,\n",
       "        8, 6, 9, 6, 3, 7, 3, 8, 3, 9, 0, 8, 0, 2, 6, 9, 8, 7, 2, 3, 3, 2,\n",
       "        9, 0, 2, 3, 2, 7, 6, 8, 3, 2, 2, 7, 0, 5, 5, 4, 6, 3, 9, 4, 1, 5,\n",
       "        0, 6, 8, 7, 3, 9, 2, 8, 6, 8, 5, 5, 8, 0, 0, 2, 7, 8, 9, 8, 7, 6,\n",
       "        4, 1, 0, 4, 8, 5, 0, 9, 8, 9, 5, 5, 3, 0, 8, 3, 5, 7, 4, 0, 6, 9,\n",
       "        1, 2, 6, 4, 2, 1, 1, 3, 5, 1, 5, 2, 0, 6, 8, 1, 5, 0, 3, 3, 7, 9,\n",
       "        3, 0, 5, 4, 1, 8, 3, 0, 6, 8, 3, 1, 8, 1, 9, 8, 4, 2, 6, 4, 5, 4,\n",
       "        6, 2, 7, 6, 2, 5, 0, 6, 4, 6, 4, 6, 4, 1, 1, 1, 8, 8, 8, 8, 3, 4,\n",
       "        9, 1, 4, 3, 8, 0, 9, 0, 9, 5, 7, 9, 1, 2, 3, 1, 1, 3, 1, 4, 9, 4,\n",
       "        7, 7, 6, 8, 7, 0, 6, 7, 2, 4, 0, 6, 8, 2, 1, 1, 7, 4, 6, 9, 8, 9,\n",
       "        3, 3, 9, 9, 6, 9, 7, 1, 2, 5, 1, 1, 9, 2, 5, 3, 2, 4, 7, 3, 8, 1,\n",
       "        0, 1, 6, 2, 2, 0, 6, 3, 2, 3, 4, 2, 1, 6, 6, 2, 1, 4, 7, 2, 2, 3,\n",
       "        7, 9, 3, 5, 6, 8, 7, 0, 2, 7, 4, 9, 9, 1, 6, 2, 9, 3, 5, 0, 1, 8,\n",
       "        5, 9, 1, 3, 2, 5, 0, 7, 4, 6, 4, 5, 3, 0, 7, 9, 1, 0, 1, 7, 1, 8,\n",
       "        6, 5, 0, 2, 8, 7, 9, 7, 9, 8, 7, 2, 3, 4, 8, 7, 3, 2, 2, 9, 6, 0,\n",
       "        0, 7, 1, 1, 4, 6, 6, 8, 2, 5, 4, 9, 5, 0, 3, 7, 4, 7, 7, 5, 2, 9,\n",
       "        1, 6, 2, 9, 4, 4, 7, 4, 7, 2, 4, 8, 4, 2, 9, 9, 7, 4, 4, 4, 4, 6,\n",
       "        6, 4, 1, 5, 2, 5, 1, 2, 6, 1, 6, 8, 3, 2, 0, 5, 9, 4, 5, 7, 6, 7,\n",
       "        1, 0, 9, 2, 8, 6, 7, 1, 9, 3, 9, 1, 7, 8, 1, 2, 1, 7]])"
      ]
     },
     "execution_count": 39,
     "metadata": {},
     "output_type": "execute_result"
    }
   ],
   "source": [
    "%time my_clf.predict(X_test)"
   ]
  },
  {
   "cell_type": "code",
   "execution_count": 40,
   "metadata": {},
   "outputs": [
    {
     "name": "stdout",
     "output_type": "stream",
     "text": [
      "CPU times: user 58.8 s, sys: 222 ms, total: 59 s\n",
      "Wall time: 59.4 s\n"
     ]
    },
    {
     "data": {
      "text/plain": [
       "array([[0., 1., 0., ..., 0., 0., 0.],\n",
       "       [0., 0., 0., ..., 1., 0., 0.],\n",
       "       [0., 0., 0., ..., 0., 0., 0.],\n",
       "       ...,\n",
       "       [0., 0., 1., ..., 0., 0., 0.],\n",
       "       [0., 1., 0., ..., 0., 0., 0.],\n",
       "       [0., 0., 0., ..., 1., 0., 0.]])"
      ]
     },
     "execution_count": 40,
     "metadata": {},
     "output_type": "execute_result"
    }
   ],
   "source": [
    "%time clf.predict_proba(X_test)"
   ]
  },
  {
   "cell_type": "code",
   "execution_count": 41,
   "metadata": {},
   "outputs": [
    {
     "name": "stdout",
     "output_type": "stream",
     "text": [
      "CPU times: user 50.2 s, sys: 103 ms, total: 50.3 s\n",
      "Wall time: 50.5 s\n"
     ]
    },
    {
     "data": {
      "text/plain": [
       "array([[0., 1., 0., ..., 0., 0., 0.],\n",
       "       [0., 0., 0., ..., 1., 0., 0.],\n",
       "       [0., 0., 0., ..., 0., 0., 0.],\n",
       "       ...,\n",
       "       [0., 0., 1., ..., 0., 0., 0.],\n",
       "       [0., 1., 0., ..., 0., 0., 0.],\n",
       "       [0., 0., 0., ..., 1., 0., 0.]])"
      ]
     },
     "execution_count": 41,
     "metadata": {},
     "output_type": "execute_result"
    }
   ],
   "source": [
    "%time my_clf.predict_proba(X_test)"
   ]
  },
  {
   "cell_type": "code",
   "execution_count": 42,
   "metadata": {},
   "outputs": [
    {
     "data": {
      "text/plain": [
       "0.9714285714285714"
      ]
     },
     "execution_count": 42,
     "metadata": {},
     "output_type": "execute_result"
    }
   ],
   "source": [
    "clf.score(X_test, y_test)"
   ]
  },
  {
   "cell_type": "code",
   "execution_count": 43,
   "metadata": {},
   "outputs": [
    {
     "data": {
      "text/plain": [
       "0.9714285714285714"
      ]
     },
     "execution_count": 43,
     "metadata": {},
     "output_type": "execute_result"
    }
   ],
   "source": [
    "my_clf.score(X_test, y_test)"
   ]
  },
  {
   "cell_type": "markdown",
   "metadata": {},
   "source": [
    "Задание 5"
   ]
  },
  {
   "cell_type": "code",
   "execution_count": null,
   "metadata": {},
   "outputs": [],
   "source": [
    "# seaborn — библиотека использующая matplotlib для болле удобного построения графиков\n",
    "# matplotlib — библиотека для построения графиков\n",
    "# train_test_split — разделяет выборку на тестовую и обучеющую\n",
    "# Pipeline (from sklearn.pipeline import Pipeline) —\n",
    "#    дает единый интерфейс для набора преобразований, обучения модели и оценки результата\n",
    "# StandardScaler (from sklearn.preprocessing import StandardScaler)\n",
    "#    — преобразование к стандартному нормальному распределению\n",
    "# ClassifierMixin — базовый класс для классификаторов\n",
    "# NeighborsBase — базовый класс для ближайших соседей\n",
    "# KNeighborsMixin — базовый класс для ближайших соседей с KNN\n",
    "# SupervisedIntegerMixin — класс с методом fit, но осуществляет только \n",
    "#    проверку типов и вызывает _fit из NeighborsBase"
   ]
  }
 ],
 "metadata": {
  "kernelspec": {
   "display_name": "Python 3",
   "language": "python",
   "name": "python3"
  },
  "language_info": {
   "codemirror_mode": {
    "name": "ipython",
    "version": 3
   },
   "file_extension": ".py",
   "mimetype": "text/x-python",
   "name": "python",
   "nbconvert_exporter": "python",
   "pygments_lexer": "ipython3",
   "version": "3.7.1"
  }
 },
 "nbformat": 4,
 "nbformat_minor": 2
}
