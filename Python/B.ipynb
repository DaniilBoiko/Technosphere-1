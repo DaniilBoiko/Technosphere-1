{
 "cells": [
  {
   "cell_type": "code",
   "execution_count": 3,
   "metadata": {},
   "outputs": [
    {
     "data": {
      "text/plain": [
       "[6, 15, 28]"
      ]
     },
     "execution_count": 3,
     "metadata": {},
     "output_type": "execute_result"
    }
   ],
   "source": [
    "list(map(lambda x: x[0]*x[1], zip(range(2, 5), range(3, 9, 2))))"
   ]
  },
  {
   "cell_type": "code",
   "execution_count": 23,
   "metadata": {},
   "outputs": [
    {
     "data": {
      "text/plain": [
       "[12, 256, 8402, 6991]"
      ]
     },
     "execution_count": 23,
     "metadata": {},
     "output_type": "execute_result"
    }
   ],
   "source": [
    "import re\n",
    "list(map(\n",
    "    lambda x: int(str(re.sub('[^0-9]','', x))), \n",
    "         ['12', '25.6', '84,02', '  69-91']))"
   ]
  },
  {
   "cell_type": "code",
   "execution_count": 21,
   "metadata": {},
   "outputs": [
    {
     "ename": "AttributeError",
     "evalue": "'list' object has no attribute 'join'",
     "output_type": "error",
     "traceback": [
      "\u001b[0;31m---------------------------------------------------------------------------\u001b[0m",
      "\u001b[0;31mAttributeError\u001b[0m                            Traceback (most recent call last)",
      "\u001b[0;32m<ipython-input-21-b8a6a189fa08>\u001b[0m in \u001b[0;36m<module>\u001b[0;34m\u001b[0m\n\u001b[0;32m----> 1\u001b[0;31m \u001b[0mre\u001b[0m\u001b[0;34m.\u001b[0m\u001b[0mfindall\u001b[0m\u001b[0;34m(\u001b[0m\u001b[0;34mr'\\d'\u001b[0m\u001b[0;34m,\u001b[0m \u001b[0;34m'25.6'\u001b[0m\u001b[0;34m)\u001b[0m\u001b[0;34m.\u001b[0m\u001b[0mjoin\u001b[0m\u001b[0;34m(\u001b[0m\u001b[0;34m''\u001b[0m\u001b[0;34m)\u001b[0m\u001b[0;34m\u001b[0m\u001b[0;34m\u001b[0m\u001b[0m\n\u001b[0m",
      "\u001b[0;31mAttributeError\u001b[0m: 'list' object has no attribute 'join'"
     ]
    }
   ],
   "source": [
    "re.findall(r'\\d', '25.6').join('')"
   ]
  },
  {
   "cell_type": "code",
   "execution_count": 25,
   "metadata": {},
   "outputs": [
    {
     "data": {
      "text/plain": [
       "[25, 'python', ('msu', '1755-01-25')]"
      ]
     },
     "execution_count": 25,
     "metadata": {},
     "output_type": "execute_result"
    }
   ],
   "source": [
    "list(filter(bool, ['', 25, None, 'python', 0.0, [], ('msu', '1755-01-25')]))"
   ]
  },
  {
   "cell_type": "code",
   "execution_count": 88,
   "metadata": {},
   "outputs": [],
   "source": [
    "def solution1(arg):\n",
    "    import re\n",
    "    return list(map(lambda x: int(str(re.sub('[^0-9]','', x))[::-1]), arg))\n",
    "\n",
    "\n",
    "def solution2(arg):\n",
    "    return list(map(lambda x: x[0]*x[1], arg))\n",
    "\n",
    "def solution3(arg):\n",
    "    return \n",
    "\n",
    "def solution4(arg):\n",
    "    return list(filter(bool, arg))\n",
    "\n",
    "def solution5(arg):\n",
    "    arg = map(lambda x: {**x,**{'square': x['width']*x['length']}},arg)\n",
    "    return list(arg) \n",
    "\n",
    "def solution6(arg):\n",
    "    return \n",
    "\n",
    "def solution7(arg):\n",
    "    return \n",
    "\n",
    "def solution8(arg):\n",
    "    return \n",
    "\n",
    "def solution9(arg):\n",
    "    return \n",
    "\n",
    "def solution10(arg):\n",
    "    return "
   ]
  },
  {
   "cell_type": "code",
   "execution_count": 33,
   "metadata": {},
   "outputs": [
    {
     "data": {
      "text/plain": [
       "[21, 652, 2048, 1996]"
      ]
     },
     "execution_count": 33,
     "metadata": {},
     "output_type": "execute_result"
    }
   ],
   "source": [
    "solution1(['12', '25.6', '84,02', '  69-91'])"
   ]
  },
  {
   "cell_type": "code",
   "execution_count": 50,
   "metadata": {},
   "outputs": [
    {
     "data": {
      "text/plain": [
       "['165033', '475145', '238018']"
      ]
     },
     "execution_count": 50,
     "metadata": {},
     "output_type": "execute_result"
    }
   ],
   "source": [
    "list(filter(lambda x: sum(map(int,(x[1::2]))) == sum(map(int,(x[0::2]))),\n",
    "           ['165033', '477329', '631811', '478117', '475145', '238018', '917764', '394286']))"
   ]
  },
  {
   "cell_type": "code",
   "execution_count": 46,
   "metadata": {},
   "outputs": [
    {
     "data": {
      "text/plain": [
       "9"
      ]
     },
     "execution_count": 46,
     "metadata": {},
     "output_type": "execute_result"
    }
   ],
   "source": [
    "sum(map(int,('165033'[1::2])))"
   ]
  },
  {
   "cell_type": "code",
   "execution_count": 51,
   "metadata": {},
   "outputs": [],
   "source": [
    "students = [\n",
    "    {'name': 'Alina', 'gpa': 4.57},\n",
    "    {'name': 'Sergey', 'gpa': 5.0},\n",
    "    {'name': 'Nastya', 'gpa': 4.21},\n",
    "    {'name': 'Valya', 'gpa': 4.72},\n",
    "    {'name': 'Anton', 'gpa': 4.32},\n",
    "]"
   ]
  },
  {
   "cell_type": "code",
   "execution_count": 54,
   "metadata": {},
   "outputs": [
    {
     "data": {
      "text/plain": [
       "['Alina', 'Sergey', 'Valya']"
      ]
     },
     "execution_count": 54,
     "metadata": {},
     "output_type": "execute_result"
    }
   ],
   "source": [
    "list(map(lambda x: x['name'],filter(lambda x: x['gpa'] > 4.5,students)))"
   ]
  },
  {
   "cell_type": "code",
   "execution_count": 55,
   "metadata": {},
   "outputs": [],
   "source": [
    "rooms = [\n",
    "    {\"name\": \"комната1\", \"width\": 2, \"length\": 4},\n",
    "    {\"name\": \"комната2\", \"width\": 2.5, \"length\": 5.6},\n",
    "    {\"name\": \"кухня\", \"width\": 3.5, \"length\": 4},\n",
    "    {\"name\": \"туалет\", \"width\": 1.5, \"length\": 1.5},\n",
    "]"
   ]
  },
  {
   "cell_type": "code",
   "execution_count": 69,
   "metadata": {},
   "outputs": [
    {
     "data": {
      "text/plain": [
       "<map at 0x1034ee748>"
      ]
     },
     "execution_count": 69,
     "metadata": {},
     "output_type": "execute_result"
    }
   ],
   "source": [
    "map(lambda x: {**x,**{'square': x['width']*x['length']}},rooms)"
   ]
  },
  {
   "cell_type": "code",
   "execution_count": 70,
   "metadata": {},
   "outputs": [
    {
     "data": {
      "text/plain": [
       "[{'name': 'комната1', 'width': 2, 'length': 4},\n",
       " {'name': 'комната2', 'width': 2.5, 'length': 5.6},\n",
       " {'name': 'кухня', 'width': 3.5, 'length': 4},\n",
       " {'name': 'туалет', 'width': 1.5, 'length': 1.5}]"
      ]
     },
     "execution_count": 70,
     "metadata": {},
     "output_type": "execute_result"
    }
   ],
   "source": [
    "rooms"
   ]
  },
  {
   "cell_type": "code",
   "execution_count": 77,
   "metadata": {},
   "outputs": [],
   "source": [
    "arg = [{1, 2, 3, 4, 5}, {2, 3, 4, 5, 6}, {3, 4, 5, 6, 7}]"
   ]
  },
  {
   "cell_type": "code",
   "execution_count": 5,
   "metadata": {},
   "outputs": [
    {
     "ename": "NameError",
     "evalue": "name 'arg' is not defined",
     "output_type": "error",
     "traceback": [
      "\u001b[0;31m---------------------------------------------------------------------------\u001b[0m",
      "\u001b[0;31mNameError\u001b[0m                                 Traceback (most recent call last)",
      "\u001b[0;32m<ipython-input-5-11741f4245ee>\u001b[0m in \u001b[0;36m<module>\u001b[0;34m\u001b[0m\n\u001b[1;32m      1\u001b[0m \u001b[0;32mfrom\u001b[0m \u001b[0mfunctools\u001b[0m \u001b[0;32mimport\u001b[0m \u001b[0mreduce\u001b[0m\u001b[0;34m\u001b[0m\u001b[0;34m\u001b[0m\u001b[0m\n\u001b[0;32m----> 2\u001b[0;31m \u001b[0mreduce\u001b[0m\u001b[0;34m(\u001b[0m\u001b[0;32mlambda\u001b[0m \u001b[0ma\u001b[0m\u001b[0;34m,\u001b[0m\u001b[0mx\u001b[0m\u001b[0;34m:\u001b[0m \u001b[0mset\u001b[0m\u001b[0;34m.\u001b[0m\u001b[0mintersection\u001b[0m\u001b[0;34m(\u001b[0m\u001b[0ma\u001b[0m\u001b[0;34m,\u001b[0m\u001b[0mx\u001b[0m\u001b[0;34m)\u001b[0m\u001b[0;34m,\u001b[0m\u001b[0marg\u001b[0m\u001b[0;34m)\u001b[0m\u001b[0;34m\u001b[0m\u001b[0;34m\u001b[0m\u001b[0m\n\u001b[0m",
      "\u001b[0;31mNameError\u001b[0m: name 'arg' is not defined"
     ]
    }
   ],
   "source": [
    "from functools import reduce\n",
    "reduce(lambda a,x: set.intersection(a,x),arg)"
   ]
  },
  {
   "cell_type": "code",
   "execution_count": 89,
   "metadata": {},
   "outputs": [
    {
     "name": "stdout",
     "output_type": "stream",
     "text": [
      "1 2 1\n"
     ]
    }
   ],
   "source": [
    "class Foo:\n",
    "    var = 1\n",
    "\n",
    "a = Foo()\n",
    "b = Foo()\n",
    "a.var += 1\n",
    "\n",
    "print(Foo.var, a.var, b.var)\n"
   ]
  },
  {
   "cell_type": "code",
   "execution_count": 6,
   "metadata": {},
   "outputs": [],
   "source": [
    "args = [1, 2, 1, 1, 3, 2, 3, 2, 4, 2, 4]"
   ]
  },
  {
   "cell_type": "code",
   "execution_count": 12,
   "metadata": {},
   "outputs": [
    {
     "data": {
      "text/plain": [
       "{1: 4, 2: 5, 3: 6, 4: 7}"
      ]
     },
     "execution_count": 12,
     "metadata": {},
     "output_type": "execute_result"
    }
   ],
   "source": [
    "dict(list(map(lambda num: (num,reduce(lambda x,a: x+(1 if a == 1 else 0), args, num)), list(set(args)))))"
   ]
  },
  {
   "cell_type": "code",
   "execution_count": 28,
   "metadata": {},
   "outputs": [],
   "source": [
    "def solution8(arg):\n",
    "    return dict(list(map(lambda num: (num,reduce(lambda x,a: x+(1 if a == num else 0), arg,0)), list(set(arg)))))\n"
   ]
  },
  {
   "cell_type": "code",
   "execution_count": 37,
   "metadata": {},
   "outputs": [
    {
     "data": {
      "text/plain": [
       "{1: 3, 2: 4, 3: 2, 4: 2}"
      ]
     },
     "execution_count": 37,
     "metadata": {},
     "output_type": "execute_result"
    }
   ],
   "source": [
    "solution8(args)"
   ]
  },
  {
   "cell_type": "code",
   "execution_count": 27,
   "metadata": {},
   "outputs": [
    {
     "data": {
      "text/plain": [
       "3"
      ]
     },
     "execution_count": 27,
     "metadata": {},
     "output_type": "execute_result"
    }
   ],
   "source": [
    "reduce(lambda x,a: x+(1 if a == 4 else 0), args)"
   ]
  },
  {
   "cell_type": "code",
   "execution_count": 39,
   "metadata": {},
   "outputs": [],
   "source": [
    "args = range(20)"
   ]
  },
  {
   "cell_type": "code",
   "execution_count": 43,
   "metadata": {},
   "outputs": [
    {
     "data": {
      "text/plain": [
       "[0, 2, 5, 6, 8, 11, 12, 14, 17, 18]"
      ]
     },
     "execution_count": 43,
     "metadata": {},
     "output_type": "execute_result"
    }
   ],
   "source": [
    "def solution3(arg):\n",
    "    return list(filter(lambda x: (x%6 in [0,2,5]), arg))\n",
    "\n",
    "solution3(args)"
   ]
  },
  {
   "cell_type": "code",
   "execution_count": 217,
   "metadata": {},
   "outputs": [],
   "source": [
    "rooms = [\n",
    "    {\"name\": \"комната1\", \"width\": 2, \"length\": 4},\n",
    "    {\"name\": \"комната2\", \"width\": 2.5, \"length\": 5.6},\n",
    "    {\"name\": \"кухня\", \"width\": 3.5, \"length\": 4},\n",
    "    {\"name\": \"туалет\", \"width\": 1.5, \"length\": 1.5},\n",
    "]"
   ]
  },
  {
   "cell_type": "code",
   "execution_count": 221,
   "metadata": {},
   "outputs": [],
   "source": [
    "def solution5(rooms):\n",
    "    rooms = list(map(lambda x: setitem(x,'square',x['width']*x['length']),rooms))\n",
    "    return rooms"
   ]
  },
  {
   "cell_type": "code",
   "execution_count": 222,
   "metadata": {},
   "outputs": [
    {
     "data": {
      "text/plain": [
       "[None, None, None, None]"
      ]
     },
     "execution_count": 222,
     "metadata": {},
     "output_type": "execute_result"
    }
   ],
   "source": [
    "solution5(rooms)"
   ]
  },
  {
   "cell_type": "code",
   "execution_count": 223,
   "metadata": {},
   "outputs": [
    {
     "data": {
      "text/plain": [
       "[{'name': 'комната1', 'width': 2, 'length': 4, 'square': 8},\n",
       " {'name': 'комната2', 'width': 2.5, 'length': 5.6, 'square': 14.0},\n",
       " {'name': 'кухня', 'width': 3.5, 'length': 4, 'square': 14.0},\n",
       " {'name': 'туалет', 'width': 1.5, 'length': 1.5, 'square': 2.25}]"
      ]
     },
     "execution_count": 223,
     "metadata": {},
     "output_type": "execute_result"
    }
   ],
   "source": [
    "rooms"
   ]
  },
  {
   "cell_type": "code",
   "execution_count": null,
   "metadata": {},
   "outputs": [],
   "source": []
  }
 ],
 "metadata": {
  "kernelspec": {
   "display_name": "Python 3",
   "language": "python",
   "name": "python3"
  },
  "language_info": {
   "codemirror_mode": {
    "name": "ipython",
    "version": 3
   },
   "file_extension": ".py",
   "mimetype": "text/x-python",
   "name": "python",
   "nbconvert_exporter": "python",
   "pygments_lexer": "ipython3",
   "version": "3.7.1"
  }
 },
 "nbformat": 4,
 "nbformat_minor": 2
}
