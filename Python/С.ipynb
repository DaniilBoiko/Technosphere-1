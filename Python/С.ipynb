{
 "cells": [
  {
   "cell_type": "code",
   "execution_count": 3,
   "metadata": {},
   "outputs": [],
   "source": [
    "import time"
   ]
  },
  {
   "cell_type": "code",
   "execution_count": 3,
   "metadata": {},
   "outputs": [],
   "source": [
    "import functools\n",
    "import time\n",
    "from datetime import datetime, timedelta\n",
    "\n",
    "def timeout(rps):\n",
    "    def _timeout(func):\n",
    "        @functools.wraps(func)\n",
    "        def wrapper(*args):\n",
    "            #print(\"Entered\")\n",
    "            current = time.time()\n",
    "            output = func(*args)\n",
    "            diff = 1/rps-(time.time()-current)\n",
    "            if diff > 0:\n",
    "                time.sleep(diff)\n",
    "            return output\n",
    "        return wrapper\n",
    "    return _timeout"
   ]
  },
  {
   "cell_type": "code",
   "execution_count": 202,
   "metadata": {},
   "outputs": [
    {
     "name": "stdout",
     "output_type": "stream",
     "text": [
      "2.03\n"
     ]
    }
   ],
   "source": [
    "import random \n",
    "@timeout(rps=5)\n",
    "def func():\n",
    "    time.sleep(random.random() * 0.1)\n",
    "\n",
    "if __name__ == \"__main__\":\n",
    "    t_start = time.time()\n",
    "    for i in range(10):\n",
    "        func()\n",
    "    t_delta = time.time() - t_start\n",
    "    print(\"{:.2f}\".format(t_delta))"
   ]
  },
  {
   "cell_type": "code",
   "execution_count": 193,
   "metadata": {},
   "outputs": [],
   "source": [
    "def timeout(rps):\n",
    "    cache = dict()\n",
    "    \n",
    "    def _timeout(func):\n",
    "        @functools.wraps(func)\n",
    "        def wrapper(*args):\n",
    "            if 'last' in cache:\n",
    "                if (datetime.now()-cache['last']) < timedelta(seconds = 1/rps):\n",
    "                    sleep(1/rps-(datetime.now()-cache['last']).total_seconds())\n",
    "            cache['last'] = datetime.now()\n",
    "            return func(*args)\n",
    "        return wrapper\n",
    "    return _timeout"
   ]
  },
  {
   "cell_type": "code",
   "execution_count": 357,
   "metadata": {},
   "outputs": [],
   "source": [
    "class BinarySearchTree:\n",
    "\n",
    "    def __init__(self, root = None, main = True):\n",
    "        self.root = root\n",
    "        self.left = None\n",
    "        self.right = None\n",
    "        self.main = main\n",
    "        \n",
    "    def append(self, value):\n",
    "        if self.root is None:\n",
    "            self.root = value\n",
    "        else:\n",
    "            if value <= self.root:\n",
    "                if self.left is None:\n",
    "                    self.left = BinarySearchTree(value, main = False)\n",
    "                else:\n",
    "                    self.left.append(value)\n",
    "            else:\n",
    "                if self.right is None:\n",
    "                    self.right = BinarySearchTree(value, main = False)\n",
    "                else:\n",
    "                    self.right.append(value)\n",
    "                                    \n",
    "    def child_items(self,level):\n",
    "        if level == 0:\n",
    "            return [self.root]\n",
    "        else:\n",
    "            left = []\n",
    "            right = []\n",
    "            \n",
    "            if self.left is not None:\n",
    "                left = self.left.child_items(level-1)\n",
    "            \n",
    "            if self.right is not None:\n",
    "                right = self.right.child_items(level-1)\n",
    "                \n",
    "            return left+right \n",
    "            \n",
    "    def __contains__(self, item):\n",
    "        if self.left is not None:\n",
    "            if item in self.left:\n",
    "                return True\n",
    "        if self.right is not None:\n",
    "            if item in self.right:\n",
    "                return True\n",
    "            \n",
    "        if self.root == item:\n",
    "            return True\n",
    "        else:\n",
    "            return False\n",
    "                \n",
    "    def __iter__(self):\n",
    "        result = []\n",
    "        i = 0\n",
    "        flag = True\n",
    "        \n",
    "        if self.root == None:\n",
    "            return iter(result)\n",
    "        \n",
    "        while flag:\n",
    "            if (self.child_items(i) == []):\n",
    "                flag = False\n",
    "            else:\n",
    "                for item in self.child_items(i):\n",
    "                    yield item\n",
    "                \n",
    "                i+=1"
   ]
  },
  {
   "cell_type": "code",
   "execution_count": 358,
   "metadata": {},
   "outputs": [],
   "source": [
    "tree = BinarySearchTree()\n",
    "for v in [8, 3, 10, 1, 6, 4, 14, 13, 7]:\n",
    "        tree.append(v)"
   ]
  },
  {
   "cell_type": "code",
   "execution_count": 359,
   "metadata": {},
   "outputs": [
    {
     "name": "stdout",
     "output_type": "stream",
     "text": [
      "8 3 10 1 6 14 4 7 13\n"
     ]
    }
   ],
   "source": [
    "print(*tree)"
   ]
  },
  {
   "cell_type": "code",
   "execution_count": 148,
   "metadata": {},
   "outputs": [
    {
     "data": {
      "text/plain": [
       "False"
      ]
     },
     "execution_count": 148,
     "metadata": {},
     "output_type": "execute_result"
    }
   ],
   "source": [
    "16 in tree"
   ]
  },
  {
   "cell_type": "code",
   "execution_count": 356,
   "metadata": {},
   "outputs": [
    {
     "name": "stdout",
     "output_type": "stream",
     "text": [
      "True\n",
      "False\n",
      "True\n",
      "3 10 1 6 14 4 7 13\n"
     ]
    }
   ],
   "source": [
    "    tree = BinarySearchTree()\n",
    "    for v in [8, 3, 10, 1, 6, 4, 14, 13, 7]:\n",
    "        tree.append(v)\n",
    "\n",
    "    for v in [8, 12, 13]:\n",
    "        print(v in tree)\n",
    "\n",
    "    print(*tree)"
   ]
  },
  {
   "cell_type": "code",
   "execution_count": 153,
   "metadata": {},
   "outputs": [],
   "source": [
    "tree = BinarySearchTree()"
   ]
  },
  {
   "cell_type": "code",
   "execution_count": 151,
   "metadata": {},
   "outputs": [],
   "source": [
    "tree.append(0)"
   ]
  },
  {
   "cell_type": "code",
   "execution_count": 154,
   "metadata": {},
   "outputs": [
    {
     "name": "stdout",
     "output_type": "stream",
     "text": [
      "\n"
     ]
    }
   ],
   "source": [
    "print(*tree)"
   ]
  },
  {
   "cell_type": "code",
   "execution_count": 155,
   "metadata": {},
   "outputs": [
    {
     "data": {
      "text/plain": [
       "False"
      ]
     },
     "execution_count": 155,
     "metadata": {},
     "output_type": "execute_result"
    }
   ],
   "source": [
    "0 in tree"
   ]
  },
  {
   "cell_type": "code",
   "execution_count": 66,
   "metadata": {},
   "outputs": [],
   "source": [
    "def counter(func):\n",
    "    func.rdepth = 0\n",
    "    func.ncalls = 0\n",
    "    func.now = -1\n",
    "    \n",
    "    @functools.wraps(func)\n",
    "    def wrapper(*args, **kwargs):\n",
    "        if wrapper.now == -1:\n",
    "            wrapper.ncalls = 0\n",
    "            wrapper.now = 0\n",
    "            wrapper.rdepth = 0\n",
    "\n",
    "        wrapper.now += 1\n",
    "        wrapper.rdepth = max(wrapper.rdepth,wrapper.now)\n",
    "        result = func(*args, **kwargs)        \n",
    "        wrapper.now -= 1\n",
    "\n",
    "        wrapper.ncalls += 1\n",
    "        if wrapper.now == 0:\n",
    "            wrapper.now = -1\n",
    "            \n",
    "        return result\n",
    "    \n",
    "    return wrapper"
   ]
  },
  {
   "cell_type": "code",
   "execution_count": 67,
   "metadata": {},
   "outputs": [],
   "source": [
    "@counter\n",
    "def func2(n, steps):\n",
    "    if steps == 0:\n",
    "        return\n",
    "\n",
    "    func2(n + 1, steps - 1)\n",
    "    func2(n - 1, steps - 1)"
   ]
  },
  {
   "cell_type": "code",
   "execution_count": 51,
   "metadata": {},
   "outputs": [
    {
     "name": "stdout",
     "output_type": "stream",
     "text": [
      "5\n"
     ]
    }
   ],
   "source": [
    "func2(0, 5)\n",
    "print(func2.rdepth)"
   ]
  },
  {
   "cell_type": "code",
   "execution_count": 58,
   "metadata": {},
   "outputs": [],
   "source": [
    "def visualise(func):\n",
    "    visualise.level = 0\n",
    "    def wrapper(*args, **kwargs):\n",
    "        print(\"In:\", visualise.level)\n",
    "        visualise.level += 1\n",
    "        result = func(*args, **kwargs)\n",
    "        visualise.level -= 1\n",
    "        print(\"Out:\", visualise.level)\n",
    "        return result\n",
    "    return wrapper"
   ]
  },
  {
   "cell_type": "code",
   "execution_count": 59,
   "metadata": {},
   "outputs": [],
   "source": [
    "@visualise\n",
    "def func1(n, steps):\n",
    "    if steps == 0:\n",
    "        return\n",
    "    func1(n + 1, steps - 1)\n",
    "    func1(n - 1, steps - 1)"
   ]
  },
  {
   "cell_type": "code",
   "execution_count": 60,
   "metadata": {},
   "outputs": [
    {
     "name": "stdout",
     "output_type": "stream",
     "text": [
      "In: 0\n",
      "In: 1\n",
      "In: 2\n",
      "In: 3\n",
      "Out: 3\n",
      "In: 3\n",
      "Out: 3\n",
      "Out: 2\n",
      "In: 2\n",
      "In: 3\n",
      "Out: 3\n",
      "In: 3\n",
      "Out: 3\n",
      "Out: 2\n",
      "Out: 1\n",
      "In: 1\n",
      "In: 2\n",
      "In: 3\n",
      "Out: 3\n",
      "In: 3\n",
      "Out: 3\n",
      "Out: 2\n",
      "In: 2\n",
      "In: 3\n",
      "Out: 3\n",
      "In: 3\n",
      "Out: 3\n",
      "Out: 2\n",
      "Out: 1\n",
      "Out: 0\n"
     ]
    }
   ],
   "source": [
    "func1(0, 3)"
   ]
  },
  {
   "cell_type": "code",
   "execution_count": 365,
   "metadata": {},
   "outputs": [
    {
     "ename": "AttributeError",
     "evalue": "'function' object has no attribute 'level'",
     "output_type": "error",
     "traceback": [
      "\u001b[0;31m---------------------------------------------------------------------------\u001b[0m",
      "\u001b[0;31mAttributeError\u001b[0m                            Traceback (most recent call last)",
      "\u001b[0;32m<ipython-input-365-167c43f205ae>\u001b[0m in \u001b[0;36m<module>\u001b[0;34m\u001b[0m\n\u001b[0;32m----> 1\u001b[0;31m \u001b[0mfunc1\u001b[0m\u001b[0;34m.\u001b[0m\u001b[0mlevel\u001b[0m\u001b[0;34m\u001b[0m\u001b[0;34m\u001b[0m\u001b[0m\n\u001b[0m",
      "\u001b[0;31mAttributeError\u001b[0m: 'function' object has no attribute 'level'"
     ]
    }
   ],
   "source": [
    "func1.level"
   ]
  },
  {
   "cell_type": "code",
   "execution_count": 68,
   "metadata": {},
   "outputs": [
    {
     "name": "stdout",
     "output_type": "stream",
     "text": [
      "63 6\n",
      "15 4\n"
     ]
    }
   ],
   "source": [
    "    func2(0, 5)\n",
    "    print(func2.ncalls, func2.rdepth)\n",
    "\n",
    "    func2(0, 3)\n",
    "    print(func2.ncalls, func2.rdepth)\n"
   ]
  },
  {
   "cell_type": "code",
   "execution_count": 80,
   "metadata": {},
   "outputs": [],
   "source": [
    "def brackets(n, opening = 0, closing = 0, answer=''):\n",
    "    if opening+closing == 2*n:\n",
    "        print(answer)\n",
    "        return\n",
    "    else:\n",
    "        if opening < n:\n",
    "            brackets(n,opening+1,closing,answer+'(')\n",
    "        \n",
    "        if opening > closing:\n",
    "            brackets(n,opening,closing+1,answer+'()')"
   ]
  },
  {
   "cell_type": "code",
   "execution_count": 82,
   "metadata": {},
   "outputs": [
    {
     "name": "stdout",
     "output_type": "stream",
     "text": [
      "(((()()()\n",
      "((()(()()\n",
      "((()()(()\n",
      "(()((()()\n",
      "(()(()(()\n"
     ]
    }
   ],
   "source": [
    "brackets(3)"
   ]
  },
  {
   "cell_type": "code",
   "execution_count": 136,
   "metadata": {},
   "outputs": [],
   "source": [
    "def is_correct(s):\n",
    "    op = s.count('(')\n",
    "    cl = s.count(')')\n",
    "    if op != cl:\n",
    "        return False\n",
    "    for i in range(len(s)):\n",
    "        op = s[:i].count('(')\n",
    "        cl = s[:i].count(')')\n",
    "        if op < cl:\n",
    "            return False\n",
    "    return True"
   ]
  },
  {
   "cell_type": "code",
   "execution_count": 142,
   "metadata": {},
   "outputs": [],
   "source": [
    "def brackets(n, ans = ''):\n",
    "    if n > 0:\n",
    "        yield from brackets(n-0.5, ans + '(')\n",
    "        yield from brackets(n-0.5, ans + ')')\n",
    "    else:\n",
    "        if is_correct(ans):\n",
    "            yield (ans)"
   ]
  },
  {
   "cell_type": "code",
   "execution_count": 151,
   "metadata": {},
   "outputs": [
    {
     "name": "stdout",
     "output_type": "stream",
     "text": [
      "((()))\n",
      "(()())\n",
      "(())()\n",
      "()(())\n",
      "()()()\n"
     ]
    }
   ],
   "source": [
    "for i in brackets(3):\n",
    "    print(i)"
   ]
  },
  {
   "cell_type": "code",
   "execution_count": 97,
   "metadata": {},
   "outputs": [
    {
     "data": {
      "text/plain": [
       "True"
      ]
     },
     "execution_count": 97,
     "metadata": {},
     "output_type": "execute_result"
    }
   ],
   "source": [
    "is_correct('(())')"
   ]
  },
  {
   "cell_type": "code",
   "execution_count": 145,
   "metadata": {},
   "outputs": [
    {
     "data": {
      "text/plain": [
       "['((()))', '(()())', '(())()', '()(())', '()()()']"
      ]
     },
     "execution_count": 145,
     "metadata": {},
     "output_type": "execute_result"
    }
   ],
   "source": [
    "list(brackets())"
   ]
  },
  {
   "cell_type": "code",
   "execution_count": 150,
   "metadata": {},
   "outputs": [],
   "source": [
    "def brackets(n, n_open = 0, n_close = 0, ans = ''):\n",
    "    if n > 0:\n",
    "        if n_open == n_close:\n",
    "            yield from brackets(n-0.5, n_open + 1 , n_close, ans + '(')\n",
    "        \n",
    "        if n_open > n_close:\n",
    "            yield from brackets(n-0.5, n_open + 1 , n_close, ans + '(')\n",
    "            yield from brackets(n-0.5, n_open, n_close + 1, ans + ')')\n",
    "    else:\n",
    "        if n_open == n_close:\n",
    "            yield (ans)"
   ]
  },
  {
   "cell_type": "code",
   "execution_count": 233,
   "metadata": {},
   "outputs": [],
   "source": [
    "from copy import deepcopy\n",
    "\n",
    "class FragileDict():\n",
    "    def __init__(self, _data = {}):\n",
    "        self._data = deepcopy(_data)\n",
    "        self._lock = True\n",
    "        \n",
    "    def __getitem__(self, key):\n",
    "        if self._lock:\n",
    "            return deepcopy(self._data[key])\n",
    "        else:\n",
    "            return self._cache[key]\n",
    "        \n",
    "    def __setitem__(self, key, value):\n",
    "        if not self._lock:\n",
    "            self._cache[key] = value\n",
    "        else:\n",
    "            raise RuntimeError(\"Protected state\")\n",
    "            \n",
    "    def __contains__ (self, key):\n",
    "        if self._lock:\n",
    "            if key in self._data:\n",
    "                return key\n",
    "            else:\n",
    "                return False\n",
    "        else:\n",
    "            if key in self._cache:\n",
    "                return key\n",
    "            else:\n",
    "                return False\n",
    "            \n",
    "    def __enter__(self, data = None):\n",
    "        self._lock = False\n",
    "        \n",
    "        if data:\n",
    "            self._data = data\n",
    "        if not self._data:\n",
    "            self._data = {}\n",
    "            \n",
    "        self._cache = deepcopy(self._data)\n",
    "        \n",
    "    def __exit__(self, exc_type, exc_value, traceback):\n",
    "        self._lock = True\n",
    "        if exc_type is not None:\n",
    "            print(\"Exception has been suppressed.\")\n",
    "        else:\n",
    "            self._data = deepcopy(self._cache)\n",
    "            \n",
    "        delattr(self, '_cache')\n",
    "        return True"
   ]
  },
  {
   "cell_type": "code",
   "execution_count": 234,
   "metadata": {},
   "outputs": [
    {
     "name": "stdout",
     "output_type": "stream",
     "text": [
      "5\n"
     ]
    }
   ],
   "source": [
    "d = FragileDict({'key': 5})\n",
    "print(d['key'])"
   ]
  },
  {
   "cell_type": "code",
   "execution_count": 235,
   "metadata": {},
   "outputs": [
    {
     "name": "stdout",
     "output_type": "stream",
     "text": [
      "5\n"
     ]
    }
   ],
   "source": [
    "with d:\n",
    "    print(d['key'])"
   ]
  },
  {
   "cell_type": "code",
   "execution_count": 236,
   "metadata": {},
   "outputs": [
    {
     "data": {
      "text/plain": [
       "True"
      ]
     },
     "execution_count": 236,
     "metadata": {},
     "output_type": "execute_result"
    }
   ],
   "source": [
    "'key' in d"
   ]
  },
  {
   "cell_type": "code",
   "execution_count": 237,
   "metadata": {},
   "outputs": [
    {
     "name": "stdout",
     "output_type": "stream",
     "text": [
      "6\n",
      "7\n"
     ]
    }
   ],
   "source": [
    "d = FragileDict({'key': 5})\n",
    "\n",
    "with d:\n",
    "    d['key'] = 6\n",
    "    d['ord'] = 7\n",
    "\n",
    "print(d['key'])\n",
    "print(d['ord'])"
   ]
  },
  {
   "cell_type": "code",
   "execution_count": null,
   "metadata": {},
   "outputs": [],
   "source": []
  },
  {
   "cell_type": "code",
   "execution_count": 238,
   "metadata": {},
   "outputs": [
    {
     "name": "stdout",
     "output_type": "stream",
     "text": [
      "6\n",
      "True\n",
      "Exception has been suppressed.\n",
      "5\n",
      "True\n"
     ]
    }
   ],
   "source": [
    "d = FragileDict({'key': 5})\n",
    "\n",
    "with d:\n",
    "    d['key'] = 6\n",
    "    print(d['key'])\n",
    "    d['ord'] = 7\n",
    "    print('ord' in d and d['ord'] == 7)\n",
    "    raise Exception()\n",
    "\n",
    "print(d['key'])\n",
    "print('ord' not in d)\n"
   ]
  },
  {
   "cell_type": "code",
   "execution_count": 239,
   "metadata": {},
   "outputs": [
    {
     "name": "stdout",
     "output_type": "stream",
     "text": [
      "Protected state\n",
      "Protected state\n",
      "True\n",
      "True\n"
     ]
    }
   ],
   "source": [
    "d = FragileDict({'key': 5})\n",
    "\n",
    "try:\n",
    "    d['key'] = 6\n",
    "except RuntimeError as e:\n",
    "    print(e)\n",
    "\n",
    "try:\n",
    "    d['ord'] = 7\n",
    "except RuntimeError as e:\n",
    "    print(e)\n",
    "\n",
    "print(d['key'] == 5)\n",
    "print('ord' not in d)\n"
   ]
  },
  {
   "cell_type": "code",
   "execution_count": 240,
   "metadata": {},
   "outputs": [
    {
     "name": "stdout",
     "output_type": "stream",
     "text": [
      "6\n",
      "7\n"
     ]
    }
   ],
   "source": [
    "d = FragileDict({'key': 5})\n",
    "\n",
    "with d:\n",
    "    d['key'] = 6\n",
    "    d['ord'] = 7\n",
    "\n",
    "print(d['key'])\n",
    "print(d['ord'])"
   ]
  },
  {
   "cell_type": "code",
   "execution_count": 241,
   "metadata": {},
   "outputs": [],
   "source": [
    "d = FragileDict({'key': []})\n",
    "\n",
    "with d:\n",
    "    a = d['key']\n",
    "    d['key'].append(10)\n",
    "    a.append(10)\n"
   ]
  },
  {
   "cell_type": "code",
   "execution_count": 242,
   "metadata": {},
   "outputs": [
    {
     "data": {
      "text/plain": [
       "{'key': [10, 10]}"
      ]
     },
     "execution_count": 242,
     "metadata": {},
     "output_type": "execute_result"
    }
   ],
   "source": [
    "d._data"
   ]
  },
  {
   "cell_type": "code",
   "execution_count": 243,
   "metadata": {},
   "outputs": [],
   "source": [
    "a.append(10)"
   ]
  },
  {
   "cell_type": "code",
   "execution_count": 244,
   "metadata": {},
   "outputs": [
    {
     "data": {
      "text/plain": [
       "[10, 10, 10]"
      ]
     },
     "execution_count": 244,
     "metadata": {},
     "output_type": "execute_result"
    }
   ],
   "source": [
    "a"
   ]
  },
  {
   "cell_type": "code",
   "execution_count": 245,
   "metadata": {},
   "outputs": [
    {
     "data": {
      "text/plain": [
       "{'key': [10, 10]}"
      ]
     },
     "execution_count": 245,
     "metadata": {},
     "output_type": "execute_result"
    }
   ],
   "source": [
    "d._data"
   ]
  },
  {
   "cell_type": "code",
   "execution_count": 246,
   "metadata": {},
   "outputs": [
    {
     "name": "stdout",
     "output_type": "stream",
     "text": [
      "True\n"
     ]
    }
   ],
   "source": [
    "d = FragileDict({'key': []})\n",
    "\n",
    "with d:\n",
    "    a = d['key']\n",
    "    d['key'].append(10)\n",
    "    a.append(10)\n",
    "\n",
    "a.append(10)\n",
    "print(a == [10, 10, 10] and d['key'] == [10, 10])"
   ]
  },
  {
   "cell_type": "code",
   "execution_count": 247,
   "metadata": {},
   "outputs": [
    {
     "name": "stdout",
     "output_type": "stream",
     "text": [
      "6\n",
      "True\n",
      "Exception has been suppressed.\n",
      "5\n",
      "True\n"
     ]
    }
   ],
   "source": [
    "d = FragileDict({'key': 5})\n",
    "\n",
    "with d:\n",
    "    d['key'] = 6\n",
    "    print(d['key'])\n",
    "    d['ord'] = 7\n",
    "    print('ord' in d and d['ord'] == 7)\n",
    "    raise Exception()\n",
    "\n",
    "print(d['key'])\n",
    "print('ord' not in d)"
   ]
  },
  {
   "cell_type": "code",
   "execution_count": 248,
   "metadata": {},
   "outputs": [
    {
     "name": "stdout",
     "output_type": "stream",
     "text": [
      "Protected state\n",
      "Protected state\n",
      "True\n",
      "True\n"
     ]
    }
   ],
   "source": [
    "d = FragileDict({'key': 5})\n",
    "\n",
    "try:\n",
    "    d['key'] = 6\n",
    "except RuntimeError as e:\n",
    "    print(e)\n",
    "\n",
    "try:\n",
    "    d['ord'] = 7\n",
    "except RuntimeError as e:\n",
    "    print(e)\n",
    "\n",
    "print(d['key'] == 5)\n",
    "print('ord' not in d)"
   ]
  },
  {
   "cell_type": "code",
   "execution_count": 249,
   "metadata": {},
   "outputs": [
    {
     "name": "stdout",
     "output_type": "stream",
     "text": [
      "True\n"
     ]
    }
   ],
   "source": [
    "d = FragileDict({'key': []})\n",
    "\n",
    "with d:\n",
    "    a = d['key']\n",
    "    d['key'].append(10)\n",
    "    a.append(10)\n",
    "\n",
    "a.append(10)\n",
    "print(a == [10, 10, 10] and d['key'] == [10, 10])"
   ]
  },
  {
   "cell_type": "code",
   "execution_count": 250,
   "metadata": {},
   "outputs": [
    {
     "name": "stdout",
     "output_type": "stream",
     "text": [
      "6\n",
      "True\n",
      "Exception has been suppressed.\n",
      "5\n",
      "True\n"
     ]
    }
   ],
   "source": [
    "d = FragileDict({'key': 5})\n",
    "\n",
    "with d:\n",
    "    d['key'] = 6\n",
    "    print(d['key'])\n",
    "    d['ord'] = 7\n",
    "    print('ord' in d and d['ord'] == 7)\n",
    "    raise Exception()\n",
    "\n",
    "print(d['key'])\n",
    "print('ord' not in d)"
   ]
  },
  {
   "cell_type": "code",
   "execution_count": 251,
   "metadata": {},
   "outputs": [
    {
     "name": "stdout",
     "output_type": "stream",
     "text": [
      "Exception has been suppressed.\n"
     ]
    }
   ],
   "source": [
    "with FragileDict() as d:\n",
    "    print(d._data)"
   ]
  },
  {
   "cell_type": "code",
   "execution_count": 225,
   "metadata": {},
   "outputs": [],
   "source": [
    "d = FragileDict()"
   ]
  },
  {
   "cell_type": "code",
   "execution_count": 226,
   "metadata": {},
   "outputs": [
    {
     "data": {
      "text/plain": [
       "False"
      ]
     },
     "execution_count": 226,
     "metadata": {},
     "output_type": "execute_result"
    }
   ],
   "source": [
    "'key' in d"
   ]
  },
  {
   "cell_type": "code",
   "execution_count": 227,
   "metadata": {},
   "outputs": [
    {
     "name": "stdout",
     "output_type": "stream",
     "text": [
      "{}\n",
      "{'var': 2}\n",
      "1 2 1\n"
     ]
    }
   ],
   "source": [
    "class Foo:\n",
    "    var = 1\n",
    "\n",
    "a = Foo()\n",
    "print(vars(a))\n",
    "b = Foo()\n",
    "a.var += 1\n",
    "print(vars(a))\n",
    "\n",
    "print(Foo.var, a.var, b.var)\n"
   ]
  },
  {
   "cell_type": "markdown",
   "metadata": {},
   "source": [
    "Выведет 1 2 1\n",
    "Если после строки a = Foo() и a.var += 1 написать print(vars(a)), то можно увидеть что операция инкримента приводит к созданию переменно объекта, а не класса, которая имеет тоже самое имя."
   ]
  },
  {
   "cell_type": "code",
   "execution_count": null,
   "metadata": {},
   "outputs": [],
   "source": []
  }
 ],
 "metadata": {
  "kernelspec": {
   "display_name": "Python 3",
   "language": "python",
   "name": "python3"
  },
  "language_info": {
   "codemirror_mode": {
    "name": "ipython",
    "version": 3
   },
   "file_extension": ".py",
   "mimetype": "text/x-python",
   "name": "python",
   "nbconvert_exporter": "python",
   "pygments_lexer": "ipython3",
   "version": "3.7.1"
  }
 },
 "nbformat": 4,
 "nbformat_minor": 2
}
