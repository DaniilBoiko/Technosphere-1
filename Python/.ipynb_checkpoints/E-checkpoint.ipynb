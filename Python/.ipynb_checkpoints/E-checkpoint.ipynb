{
 "cells": [
  {
   "cell_type": "code",
   "execution_count": 20,
   "metadata": {},
   "outputs": [],
   "source": [
    "def product(A, history = [], max_iter = -1, now = 0):\n",
    "    if max_iter == -1:\n",
    "        max_iter = len(A)\n",
    "    \n",
    "    if now != max_iter:\n",
    "        for a in A[now]:\n",
    "            yield from product(A, history = history + [a], max_iter = max_iter, now = now + 1)\n",
    "    else:\n",
    "        yield tuple([item for item in history])"
   ]
  },
  {
   "cell_type": "code",
   "execution_count": 21,
   "metadata": {},
   "outputs": [
    {
     "name": "stdout",
     "output_type": "stream",
     "text": [
      "(0, 2, 4)\n",
      "(0, 3, 4)\n",
      "(1, 2, 4)\n",
      "(1, 3, 4)\n"
     ]
    }
   ],
   "source": [
    "a = [[0, 1], [2, 3], [4]]\n",
    "for e in product(a):\n",
    "    print(e)"
   ]
  },
  {
   "cell_type": "code",
   "execution_count": 22,
   "metadata": {},
   "outputs": [
    {
     "name": "stdout",
     "output_type": "stream",
     "text": [
      "(0, 'p')\n",
      "(0, 'y')\n",
      "(0, 't')\n",
      "(0, 'h')\n",
      "(0, 'o')\n",
      "(0, 'n')\n",
      "(1, 'p')\n",
      "(1, 'y')\n",
      "(1, 't')\n",
      "(1, 'h')\n",
      "(1, 'o')\n",
      "(1, 'n')\n"
     ]
    }
   ],
   "source": [
    "a = [[0, 1], 'python']\n",
    "for e in product(a):\n",
    "    print(e)\n"
   ]
  },
  {
   "cell_type": "code",
   "execution_count": null,
   "metadata": {},
   "outputs": [],
   "source": []
  }
 ],
 "metadata": {
  "kernelspec": {
   "display_name": "Python 3",
   "language": "python",
   "name": "python3"
  },
  "language_info": {
   "codemirror_mode": {
    "name": "ipython",
    "version": 3
   },
   "file_extension": ".py",
   "mimetype": "text/x-python",
   "name": "python",
   "nbconvert_exporter": "python",
   "pygments_lexer": "ipython3",
   "version": "3.7.1"
  }
 },
 "nbformat": 4,
 "nbformat_minor": 2
}
